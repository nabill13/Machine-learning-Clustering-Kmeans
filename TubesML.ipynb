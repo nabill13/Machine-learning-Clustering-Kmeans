{
  "nbformat": 4,
  "nbformat_minor": 0,
  "metadata": {
    "colab": {
      "name": "TubesML.ipynb",
      "provenance": [],
      "collapsed_sections": []
    },
    "kernelspec": {
      "name": "python3",
      "display_name": "Python 3"
    },
    "language_info": {
      "name": "python"
    }
  },
  "cells": [
    {
      "cell_type": "markdown",
      "source": [
        "#**Tugas Besar Machine Learning**\n",
        "## **Kepala DSDABM Surabaya Pastikan Genangan Surut Kurang dari 20 Menit**\n",
        "### **Nama Kelompok [..]**"
      ],
      "metadata": {
        "id": "w7Pe39j_H9tO"
      }
    },
    {
      "cell_type": "code",
      "source": [
        "import pandas as pd\n",
        "import numpy as np\n",
        "import numpy as df\n",
        "import matplotlib.pyplot as plt\n",
        "import seaborn as sns\n",
        "import sklearn\n",
        "from pandas.plotting import scatter_matrix"
      ],
      "metadata": {
        "id": "TIDkWVf6IL36"
      },
      "execution_count": null,
      "outputs": []
    },
    {
      "cell_type": "code",
      "source": [
        "from google.colab import drive\n",
        "drive.mount('/content/drive')\n",
        "pd.read_csv('/content/drive/My Drive/datamining/data genangan air Surabaya.csv')\n",
        "df = pd.read_csv('/content/drive/My Drive/datamining/data genangan air Surabaya.csv')"
      ],
      "metadata": {
        "colab": {
          "base_uri": "https://localhost:8080/"
        },
        "id": "KSOXYZZpIS3a",
        "outputId": "7ae70170-4bc7-46c7-ac0c-c65b071f0a34"
      },
      "execution_count": null,
      "outputs": [
        {
          "output_type": "stream",
          "name": "stdout",
          "text": [
            "Drive already mounted at /content/drive; to attempt to forcibly remount, call drive.mount(\"/content/drive\", force_remount=True).\n"
          ]
        }
      ]
    },
    {
      "cell_type": "code",
      "source": [
        "df.head()"
      ],
      "metadata": {
        "colab": {
          "base_uri": "https://localhost:8080/",
          "height": 206
        },
        "id": "MxVletrbIdgq",
        "outputId": "12ce615a-0b27-4aa2-ed3a-96cc5f358ae8"
      },
      "execution_count": null,
      "outputs": [
        {
          "output_type": "execute_result",
          "data": {
            "text/plain": [
              "   _id                               Lokasi     Kecamatan    Kelurahan  \\\n",
              "0    1           Jl. Pakis Agosari (Yamaha)   Dukuh Pakis  Dukuh Pakis   \n",
              "1    2  Jl. Mayjend Sungkono - Darmo Park I   Dukuh Pakis  Dukuh Pakis   \n",
              "2    3    Jl. Mayjend Sungkono (Pom Bensin)   Dukuh Pakis  Dukuh Pakis   \n",
              "3    4                          Kp. Kebraon  Karangpilang   Warugunung   \n",
              "4    5              Jl. Lakar Santri RW.001   Lakarsantri   Bangkingan   \n",
              "\n",
              "          Rayon  Luas genangan  Tinggi genangan  Lama genangan  \\\n",
              "0  Rayon Wiyung      10.800000               10             40   \n",
              "1  Rayon Wiyung       0.816236               25             58   \n",
              "2  Rayon Wiyung       0.509047               15             16   \n",
              "3  Rayon Wiyung       0.785111               10             40   \n",
              "4  Rayon Wiyung       0.749717               30             16   \n",
              "\n",
              "   Skor Luas Genangan  Skor Tinggi Genangan  Skor Lama Genangan  \n",
              "0                 100                    25                  25  \n",
              "1                  75                    50                  25  \n",
              "2                  75                    50                   0  \n",
              "3                  75                    25                  25  \n",
              "4                  75                    50                   0  "
            ],
            "text/html": [
              "\n",
              "  <div id=\"df-59f81faa-6d09-4c6b-a4d2-e8d82c6d66fb\">\n",
              "    <div class=\"colab-df-container\">\n",
              "      <div>\n",
              "<style scoped>\n",
              "    .dataframe tbody tr th:only-of-type {\n",
              "        vertical-align: middle;\n",
              "    }\n",
              "\n",
              "    .dataframe tbody tr th {\n",
              "        vertical-align: top;\n",
              "    }\n",
              "\n",
              "    .dataframe thead th {\n",
              "        text-align: right;\n",
              "    }\n",
              "</style>\n",
              "<table border=\"1\" class=\"dataframe\">\n",
              "  <thead>\n",
              "    <tr style=\"text-align: right;\">\n",
              "      <th></th>\n",
              "      <th>_id</th>\n",
              "      <th>Lokasi</th>\n",
              "      <th>Kecamatan</th>\n",
              "      <th>Kelurahan</th>\n",
              "      <th>Rayon</th>\n",
              "      <th>Luas genangan</th>\n",
              "      <th>Tinggi genangan</th>\n",
              "      <th>Lama genangan</th>\n",
              "      <th>Skor Luas Genangan</th>\n",
              "      <th>Skor Tinggi Genangan</th>\n",
              "      <th>Skor Lama Genangan</th>\n",
              "    </tr>\n",
              "  </thead>\n",
              "  <tbody>\n",
              "    <tr>\n",
              "      <th>0</th>\n",
              "      <td>1</td>\n",
              "      <td>Jl. Pakis Agosari (Yamaha)</td>\n",
              "      <td>Dukuh Pakis</td>\n",
              "      <td>Dukuh Pakis</td>\n",
              "      <td>Rayon Wiyung</td>\n",
              "      <td>10.800000</td>\n",
              "      <td>10</td>\n",
              "      <td>40</td>\n",
              "      <td>100</td>\n",
              "      <td>25</td>\n",
              "      <td>25</td>\n",
              "    </tr>\n",
              "    <tr>\n",
              "      <th>1</th>\n",
              "      <td>2</td>\n",
              "      <td>Jl. Mayjend Sungkono - Darmo Park I</td>\n",
              "      <td>Dukuh Pakis</td>\n",
              "      <td>Dukuh Pakis</td>\n",
              "      <td>Rayon Wiyung</td>\n",
              "      <td>0.816236</td>\n",
              "      <td>25</td>\n",
              "      <td>58</td>\n",
              "      <td>75</td>\n",
              "      <td>50</td>\n",
              "      <td>25</td>\n",
              "    </tr>\n",
              "    <tr>\n",
              "      <th>2</th>\n",
              "      <td>3</td>\n",
              "      <td>Jl. Mayjend Sungkono (Pom Bensin)</td>\n",
              "      <td>Dukuh Pakis</td>\n",
              "      <td>Dukuh Pakis</td>\n",
              "      <td>Rayon Wiyung</td>\n",
              "      <td>0.509047</td>\n",
              "      <td>15</td>\n",
              "      <td>16</td>\n",
              "      <td>75</td>\n",
              "      <td>50</td>\n",
              "      <td>0</td>\n",
              "    </tr>\n",
              "    <tr>\n",
              "      <th>3</th>\n",
              "      <td>4</td>\n",
              "      <td>Kp. Kebraon</td>\n",
              "      <td>Karangpilang</td>\n",
              "      <td>Warugunung</td>\n",
              "      <td>Rayon Wiyung</td>\n",
              "      <td>0.785111</td>\n",
              "      <td>10</td>\n",
              "      <td>40</td>\n",
              "      <td>75</td>\n",
              "      <td>25</td>\n",
              "      <td>25</td>\n",
              "    </tr>\n",
              "    <tr>\n",
              "      <th>4</th>\n",
              "      <td>5</td>\n",
              "      <td>Jl. Lakar Santri RW.001</td>\n",
              "      <td>Lakarsantri</td>\n",
              "      <td>Bangkingan</td>\n",
              "      <td>Rayon Wiyung</td>\n",
              "      <td>0.749717</td>\n",
              "      <td>30</td>\n",
              "      <td>16</td>\n",
              "      <td>75</td>\n",
              "      <td>50</td>\n",
              "      <td>0</td>\n",
              "    </tr>\n",
              "  </tbody>\n",
              "</table>\n",
              "</div>\n",
              "      <button class=\"colab-df-convert\" onclick=\"convertToInteractive('df-59f81faa-6d09-4c6b-a4d2-e8d82c6d66fb')\"\n",
              "              title=\"Convert this dataframe to an interactive table.\"\n",
              "              style=\"display:none;\">\n",
              "        \n",
              "  <svg xmlns=\"http://www.w3.org/2000/svg\" height=\"24px\"viewBox=\"0 0 24 24\"\n",
              "       width=\"24px\">\n",
              "    <path d=\"M0 0h24v24H0V0z\" fill=\"none\"/>\n",
              "    <path d=\"M18.56 5.44l.94 2.06.94-2.06 2.06-.94-2.06-.94-.94-2.06-.94 2.06-2.06.94zm-11 1L8.5 8.5l.94-2.06 2.06-.94-2.06-.94L8.5 2.5l-.94 2.06-2.06.94zm10 10l.94 2.06.94-2.06 2.06-.94-2.06-.94-.94-2.06-.94 2.06-2.06.94z\"/><path d=\"M17.41 7.96l-1.37-1.37c-.4-.4-.92-.59-1.43-.59-.52 0-1.04.2-1.43.59L10.3 9.45l-7.72 7.72c-.78.78-.78 2.05 0 2.83L4 21.41c.39.39.9.59 1.41.59.51 0 1.02-.2 1.41-.59l7.78-7.78 2.81-2.81c.8-.78.8-2.07 0-2.86zM5.41 20L4 18.59l7.72-7.72 1.47 1.35L5.41 20z\"/>\n",
              "  </svg>\n",
              "      </button>\n",
              "      \n",
              "  <style>\n",
              "    .colab-df-container {\n",
              "      display:flex;\n",
              "      flex-wrap:wrap;\n",
              "      gap: 12px;\n",
              "    }\n",
              "\n",
              "    .colab-df-convert {\n",
              "      background-color: #E8F0FE;\n",
              "      border: none;\n",
              "      border-radius: 50%;\n",
              "      cursor: pointer;\n",
              "      display: none;\n",
              "      fill: #1967D2;\n",
              "      height: 32px;\n",
              "      padding: 0 0 0 0;\n",
              "      width: 32px;\n",
              "    }\n",
              "\n",
              "    .colab-df-convert:hover {\n",
              "      background-color: #E2EBFA;\n",
              "      box-shadow: 0px 1px 2px rgba(60, 64, 67, 0.3), 0px 1px 3px 1px rgba(60, 64, 67, 0.15);\n",
              "      fill: #174EA6;\n",
              "    }\n",
              "\n",
              "    [theme=dark] .colab-df-convert {\n",
              "      background-color: #3B4455;\n",
              "      fill: #D2E3FC;\n",
              "    }\n",
              "\n",
              "    [theme=dark] .colab-df-convert:hover {\n",
              "      background-color: #434B5C;\n",
              "      box-shadow: 0px 1px 3px 1px rgba(0, 0, 0, 0.15);\n",
              "      filter: drop-shadow(0px 1px 2px rgba(0, 0, 0, 0.3));\n",
              "      fill: #FFFFFF;\n",
              "    }\n",
              "  </style>\n",
              "\n",
              "      <script>\n",
              "        const buttonEl =\n",
              "          document.querySelector('#df-59f81faa-6d09-4c6b-a4d2-e8d82c6d66fb button.colab-df-convert');\n",
              "        buttonEl.style.display =\n",
              "          google.colab.kernel.accessAllowed ? 'block' : 'none';\n",
              "\n",
              "        async function convertToInteractive(key) {\n",
              "          const element = document.querySelector('#df-59f81faa-6d09-4c6b-a4d2-e8d82c6d66fb');\n",
              "          const dataTable =\n",
              "            await google.colab.kernel.invokeFunction('convertToInteractive',\n",
              "                                                     [key], {});\n",
              "          if (!dataTable) return;\n",
              "\n",
              "          const docLinkHtml = 'Like what you see? Visit the ' +\n",
              "            '<a target=\"_blank\" href=https://colab.research.google.com/notebooks/data_table.ipynb>data table notebook</a>'\n",
              "            + ' to learn more about interactive tables.';\n",
              "          element.innerHTML = '';\n",
              "          dataTable['output_type'] = 'display_data';\n",
              "          await google.colab.output.renderOutput(dataTable, element);\n",
              "          const docLink = document.createElement('div');\n",
              "          docLink.innerHTML = docLinkHtml;\n",
              "          element.appendChild(docLink);\n",
              "        }\n",
              "      </script>\n",
              "    </div>\n",
              "  </div>\n",
              "  "
            ]
          },
          "metadata": {},
          "execution_count": 162
        }
      ]
    },
    {
      "cell_type": "code",
      "source": [
        "df.info()"
      ],
      "metadata": {
        "colab": {
          "base_uri": "https://localhost:8080/"
        },
        "id": "HAl3GnshIjB_",
        "outputId": "43aa0c5e-e329-4344-b0ec-613fa215c739"
      },
      "execution_count": null,
      "outputs": [
        {
          "output_type": "stream",
          "name": "stdout",
          "text": [
            "<class 'pandas.core.frame.DataFrame'>\n",
            "RangeIndex: 244 entries, 0 to 243\n",
            "Data columns (total 11 columns):\n",
            " #   Column                Non-Null Count  Dtype  \n",
            "---  ------                --------------  -----  \n",
            " 0   _id                   244 non-null    int64  \n",
            " 1   Lokasi                244 non-null    object \n",
            " 2   Kecamatan             244 non-null    object \n",
            " 3   Kelurahan             244 non-null    object \n",
            " 4   Rayon                 244 non-null    object \n",
            " 5   Luas genangan         244 non-null    float64\n",
            " 6   Tinggi genangan       244 non-null    int64  \n",
            " 7   Lama genangan         244 non-null    int64  \n",
            " 8   Skor Luas Genangan    244 non-null    int64  \n",
            " 9   Skor Tinggi Genangan  244 non-null    int64  \n",
            " 10  Skor Lama Genangan    244 non-null    int64  \n",
            "dtypes: float64(1), int64(6), object(4)\n",
            "memory usage: 21.1+ KB\n"
          ]
        }
      ]
    },
    {
      "cell_type": "code",
      "source": [
        "df.shape"
      ],
      "metadata": {
        "colab": {
          "base_uri": "https://localhost:8080/"
        },
        "id": "XtX-rjn1Img9",
        "outputId": "85a9db98-6f40-43d5-f62b-d5368d6ffcd9"
      },
      "execution_count": null,
      "outputs": [
        {
          "output_type": "execute_result",
          "data": {
            "text/plain": [
              "(244, 11)"
            ]
          },
          "metadata": {},
          "execution_count": 164
        }
      ]
    },
    {
      "cell_type": "markdown",
      "source": [
        "### Normalisasi Data"
      ],
      "metadata": {
        "id": "qa6uEsYsrmdG"
      }
    },
    {
      "cell_type": "code",
      "source": [
        "df.isnull().sum()"
      ],
      "metadata": {
        "colab": {
          "base_uri": "https://localhost:8080/"
        },
        "id": "MdFiMM8-Iqte",
        "outputId": "dfbe5edd-29df-4058-9b76-0d28e529f7e2"
      },
      "execution_count": null,
      "outputs": [
        {
          "output_type": "execute_result",
          "data": {
            "text/plain": [
              "_id                     0\n",
              "Lokasi                  0\n",
              "Kecamatan               0\n",
              "Kelurahan               0\n",
              "Rayon                   0\n",
              "Luas genangan           0\n",
              "Tinggi genangan         0\n",
              "Lama genangan           0\n",
              "Skor Luas Genangan      0\n",
              "Skor Tinggi Genangan    0\n",
              "Skor Lama Genangan      0\n",
              "dtype: int64"
            ]
          },
          "metadata": {},
          "execution_count": 165
        }
      ]
    },
    {
      "cell_type": "code",
      "source": [
        "fig, axs = plt.subplots(3, figsize = (5,5))\n",
        "plt1 = sns.boxplot(df['Luas genangan'], ax = axs[0])\n",
        "plt2 = sns.boxplot(df['Tinggi genangan'], ax = axs[1])\n",
        "plt3 = sns.boxplot(df['Lama genangan'], ax = axs[2])\n",
        "plt.tight_layout()"
      ],
      "metadata": {
        "colab": {
          "base_uri": "https://localhost:8080/",
          "height": 493
        },
        "id": "-WzudOvOIxGN",
        "outputId": "c5961f8e-d712-4e68-e8fd-51cda894011b"
      },
      "execution_count": null,
      "outputs": [
        {
          "output_type": "stream",
          "name": "stderr",
          "text": [
            "/usr/local/lib/python3.7/dist-packages/seaborn/_decorators.py:43: FutureWarning: Pass the following variable as a keyword arg: x. From version 0.12, the only valid positional argument will be `data`, and passing other arguments without an explicit keyword will result in an error or misinterpretation.\n",
            "  FutureWarning\n",
            "/usr/local/lib/python3.7/dist-packages/seaborn/_decorators.py:43: FutureWarning: Pass the following variable as a keyword arg: x. From version 0.12, the only valid positional argument will be `data`, and passing other arguments without an explicit keyword will result in an error or misinterpretation.\n",
            "  FutureWarning\n",
            "/usr/local/lib/python3.7/dist-packages/seaborn/_decorators.py:43: FutureWarning: Pass the following variable as a keyword arg: x. From version 0.12, the only valid positional argument will be `data`, and passing other arguments without an explicit keyword will result in an error or misinterpretation.\n",
            "  FutureWarning\n"
          ]
        },
        {
          "output_type": "display_data",
          "data": {
            "text/plain": [
              "<Figure size 360x360 with 3 Axes>"
            ],
            "image/png": "[encoded data removed]"
          },
          "metadata": {
            "needs_background": "light"
          }
        }
      ]
    },
    {
      "cell_type": "markdown",
      "source": [
        "Cek persebaran data"
      ],
      "metadata": {
        "id": "BxjuflcpKigl"
      }
    },
    {
      "cell_type": "code",
      "source": [
        "df.describe()"
      ],
      "metadata": {
        "colab": {
          "base_uri": "https://localhost:8080/",
          "height": 300
        },
        "id": "Wko9qEOCIt5a",
        "outputId": "11bbc8e3-d4a8-4bdf-c858-3a9f14158565"
      },
      "execution_count": null,
      "outputs": [
        {
          "output_type": "execute_result",
          "data": {
            "text/plain": [
              "              _id  Luas genangan  Tinggi genangan  Lama genangan  \\\n",
              "count  244.000000     244.000000       244.000000     244.000000   \n",
              "mean   122.500000       1.854777        10.922131      22.040984   \n",
              "std     70.580923       3.741298         7.146187      16.531749   \n",
              "min      1.000000       0.131661         3.000000       3.000000   \n",
              "25%     61.750000       0.324975         4.000000      15.000000   \n",
              "50%    122.500000       0.527731         9.000000      16.000000   \n",
              "75%    183.250000       0.983013        11.000000      31.000000   \n",
              "max    244.000000      19.980000        50.000000      90.000000   \n",
              "\n",
              "       Skor Luas Genangan  Skor Tinggi Genangan  Skor Lama Genangan  \n",
              "count          244.000000            244.000000          244.000000  \n",
              "mean            67.315574             24.795082            7.172131  \n",
              "std             18.421974             18.143207           12.619596  \n",
              "min             50.000000              0.000000            0.000000  \n",
              "25%             50.000000              0.000000            0.000000  \n",
              "50%             75.000000             25.000000            0.000000  \n",
              "75%             75.000000             31.250000           25.000000  \n",
              "max            100.000000             75.000000           50.000000  "
            ],
            "text/html": [
              "\n",
              "  <div id=\"df-7fd38cde-ce91-4990-805c-0c21eec7c986\">\n",
              "    <div class=\"colab-df-container\">\n",
              "      <div>\n",
              "<style scoped>\n",
              "    .dataframe tbody tr th:only-of-type {\n",
              "        vertical-align: middle;\n",
              "    }\n",
              "\n",
              "    .dataframe tbody tr th {\n",
              "        vertical-align: top;\n",
              "    }\n",
              "\n",
              "    .dataframe thead th {\n",
              "        text-align: right;\n",
              "    }\n",
              "</style>\n",
              "<table border=\"1\" class=\"dataframe\">\n",
              "  <thead>\n",
              "    <tr style=\"text-align: right;\">\n",
              "      <th></th>\n",
              "      <th>_id</th>\n",
              "      <th>Luas genangan</th>\n",
              "      <th>Tinggi genangan</th>\n",
              "      <th>Lama genangan</th>\n",
              "      <th>Skor Luas Genangan</th>\n",
              "      <th>Skor Tinggi Genangan</th>\n",
              "      <th>Skor Lama Genangan</th>\n",
              "    </tr>\n",
              "  </thead>\n",
              "  <tbody>\n",
              "    <tr>\n",
              "      <th>count</th>\n",
              "      <td>244.000000</td>\n",
              "      <td>244.000000</td>\n",
              "      <td>244.000000</td>\n",
              "      <td>244.000000</td>\n",
              "      <td>244.000000</td>\n",
              "      <td>244.000000</td>\n",
              "      <td>244.000000</td>\n",
              "    </tr>\n",
              "    <tr>\n",
              "      <th>mean</th>\n",
              "      <td>122.500000</td>\n",
              "      <td>1.854777</td>\n",
              "      <td>10.922131</td>\n",
              "      <td>22.040984</td>\n",
              "      <td>67.315574</td>\n",
              "      <td>24.795082</td>\n",
              "      <td>7.172131</td>\n",
              "    </tr>\n",
              "    <tr>\n",
              "      <th>std</th>\n",
              "      <td>70.580923</td>\n",
              "      <td>3.741298</td>\n",
              "      <td>7.146187</td>\n",
              "      <td>16.531749</td>\n",
              "      <td>18.421974</td>\n",
              "      <td>18.143207</td>\n",
              "      <td>12.619596</td>\n",
              "    </tr>\n",
              "    <tr>\n",
              "      <th>min</th>\n",
              "      <td>1.000000</td>\n",
              "      <td>0.131661</td>\n",
              "      <td>3.000000</td>\n",
              "      <td>3.000000</td>\n",
              "      <td>50.000000</td>\n",
              "      <td>0.000000</td>\n",
              "      <td>0.000000</td>\n",
              "    </tr>\n",
              "    <tr>\n",
              "      <th>25%</th>\n",
              "      <td>61.750000</td>\n",
              "      <td>0.324975</td>\n",
              "      <td>4.000000</td>\n",
              "      <td>15.000000</td>\n",
              "      <td>50.000000</td>\n",
              "      <td>0.000000</td>\n",
              "      <td>0.000000</td>\n",
              "    </tr>\n",
              "    <tr>\n",
              "      <th>50%</th>\n",
              "      <td>122.500000</td>\n",
              "      <td>0.527731</td>\n",
              "      <td>9.000000</td>\n",
              "      <td>16.000000</td>\n",
              "      <td>75.000000</td>\n",
              "      <td>25.000000</td>\n",
              "      <td>0.000000</td>\n",
              "    </tr>\n",
              "    <tr>\n",
              "      <th>75%</th>\n",
              "      <td>183.250000</td>\n",
              "      <td>0.983013</td>\n",
              "      <td>11.000000</td>\n",
              "      <td>31.000000</td>\n",
              "      <td>75.000000</td>\n",
              "      <td>31.250000</td>\n",
              "      <td>25.000000</td>\n",
              "    </tr>\n",
              "    <tr>\n",
              "      <th>max</th>\n",
              "      <td>244.000000</td>\n",
              "      <td>19.980000</td>\n",
              "      <td>50.000000</td>\n",
              "      <td>90.000000</td>\n",
              "      <td>100.000000</td>\n",
              "      <td>75.000000</td>\n",
              "      <td>50.000000</td>\n",
              "    </tr>\n",
              "  </tbody>\n",
              "</table>\n",
              "</div>\n",
              "      <button class=\"colab-df-convert\" onclick=\"convertToInteractive('df-7fd38cde-ce91-4990-805c-0c21eec7c986')\"\n",
              "              title=\"Convert this dataframe to an interactive table.\"\n",
              "              style=\"display:none;\">\n",
              "        \n",
              "  <svg xmlns=\"http://www.w3.org/2000/svg\" height=\"24px\"viewBox=\"0 0 24 24\"\n",
              "       width=\"24px\">\n",
              "    <path d=\"M0 0h24v24H0V0z\" fill=\"none\"/>\n",
              "    <path d=\"M18.56 5.44l.94 2.06.94-2.06 2.06-.94-2.06-.94-.94-2.06-.94 2.06-2.06.94zm-11 1L8.5 8.5l.94-2.06 2.06-.94-2.06-.94L8.5 2.5l-.94 2.06-2.06.94zm10 10l.94 2.06.94-2.06 2.06-.94-2.06-.94-.94-2.06-.94 2.06-2.06.94z\"/><path d=\"M17.41 7.96l-1.37-1.37c-.4-.4-.92-.59-1.43-.59-.52 0-1.04.2-1.43.59L10.3 9.45l-7.72 7.72c-.78.78-.78 2.05 0 2.83L4 21.41c.39.39.9.59 1.41.59.51 0 1.02-.2 1.41-.59l7.78-7.78 2.81-2.81c.8-.78.8-2.07 0-2.86zM5.41 20L4 18.59l7.72-7.72 1.47 1.35L5.41 20z\"/>\n",
              "  </svg>\n",
              "      </button>\n",
              "      \n",
              "  <style>\n",
              "    .colab-df-container {\n",
              "      display:flex;\n",
              "      flex-wrap:wrap;\n",
              "      gap: 12px;\n",
              "    }\n",
              "\n",
              "    .colab-df-convert {\n",
              "      background-color: #E8F0FE;\n",
              "      border: none;\n",
              "      border-radius: 50%;\n",
              "      cursor: pointer;\n",
              "      display: none;\n",
              "      fill: #1967D2;\n",
              "      height: 32px;\n",
              "      padding: 0 0 0 0;\n",
              "      width: 32px;\n",
              "    }\n",
              "\n",
              "    .colab-df-convert:hover {\n",
              "      background-color: #E2EBFA;\n",
              "      box-shadow: 0px 1px 2px rgba(60, 64, 67, 0.3), 0px 1px 3px 1px rgba(60, 64, 67, 0.15);\n",
              "      fill: #174EA6;\n",
              "    }\n",
              "\n",
              "    [theme=dark] .colab-df-convert {\n",
              "      background-color: #3B4455;\n",
              "      fill: #D2E3FC;\n",
              "    }\n",
              "\n",
              "    [theme=dark] .colab-df-convert:hover {\n",
              "      background-color: #434B5C;\n",
              "      box-shadow: 0px 1px 3px 1px rgba(0, 0, 0, 0.15);\n",
              "      filter: drop-shadow(0px 1px 2px rgba(0, 0, 0, 0.3));\n",
              "      fill: #FFFFFF;\n",
              "    }\n",
              "  </style>\n",
              "\n",
              "      <script>\n",
              "        const buttonEl =\n",
              "          document.querySelector('#df-7fd38cde-ce91-4990-805c-0c21eec7c986 button.colab-df-convert');\n",
              "        buttonEl.style.display =\n",
              "          google.colab.kernel.accessAllowed ? 'block' : 'none';\n",
              "\n",
              "        async function convertToInteractive(key) {\n",
              "          const element = document.querySelector('#df-7fd38cde-ce91-4990-805c-0c21eec7c986');\n",
              "          const dataTable =\n",
              "            await google.colab.kernel.invokeFunction('convertToInteractive',\n",
              "                                                     [key], {});\n",
              "          if (!dataTable) return;\n",
              "\n",
              "          const docLinkHtml = 'Like what you see? Visit the ' +\n",
              "            '<a target=\"_blank\" href=https://colab.research.google.com/notebooks/data_table.ipynb>data table notebook</a>'\n",
              "            + ' to learn more about interactive tables.';\n",
              "          element.innerHTML = '';\n",
              "          dataTable['output_type'] = 'display_data';\n",
              "          await google.colab.output.renderOutput(dataTable, element);\n",
              "          const docLink = document.createElement('div');\n",
              "          docLink.innerHTML = docLinkHtml;\n",
              "          element.appendChild(docLink);\n",
              "        }\n",
              "      </script>\n",
              "    </div>\n",
              "  </div>\n",
              "  "
            ]
          },
          "metadata": {},
          "execution_count": 167
        }
      ]
    },
    {
      "cell_type": "code",
      "source": [
        "Q1 = (df[['Luas genangan','Tinggi genangan','Lama genangan']]).quantile(0.25)\n",
        "Q3 = (df[['Luas genangan','Tinggi genangan','Lama genangan']]).quantile(0.75)\n",
        "IQR = Q3 - Q1\n",
        "maximum = Q3 + (1.5*IQR)\n",
        "print('Nilai Maximum dari masing-masing Variable adalah: ')\n",
        "print(maximum)\n",
        "minimum = Q1 - (1.5*IQR)\n",
        "print('\\nNilai Minimum dari masing-masing Variable adalah: ')\n",
        "print(minimum)\n",
        "more_than = (df > maximum)\n",
        "lower_than = (df< minimum)\n",
        "df = df.mask(more_than, maximum, axis=1)\n",
        "df = df.mask(lower_than, minimum, axis=1)\n",
        "print('\\nPersebaran data setelah ditangani Outlier: ')\n",
        "print(df[['Luas genangan','Tinggi genangan','Lama genangan']].describe())\n",
        "fig, axs = plt.subplots(3, figsize = (5,5))\n",
        "plt1 = sns.boxplot(df['Luas genangan'], ax = axs[0])\n",
        "plt2 = sns.boxplot(df['Tinggi genangan'], ax = axs[1])\n",
        "plt3 = sns.boxplot(df['Lama genangan'], ax = axs[2])\n",
        "plt.tight_layout()"
      ],
      "metadata": {
        "colab": {
          "base_uri": "https://localhost:8080/",
          "height": 945
        },
        "id": "fzGYLRsxIz0c",
        "outputId": "a9f8d633-b8b6-4205-8200-8b562b424591"
      },
      "execution_count": null,
      "outputs": [
        {
          "output_type": "stream",
          "name": "stdout",
          "text": [
            "Nilai Maximum dari masing-masing Variable adalah: \n",
            "Luas genangan       1.97007\n",
            "Tinggi genangan    21.50000\n",
            "Lama genangan      55.00000\n",
            "dtype: float64\n",
            "\n",
            "Nilai Minimum dari masing-masing Variable adalah: \n",
            "Luas genangan     -0.662081\n",
            "Tinggi genangan   -6.500000\n",
            "Lama genangan     -9.000000\n",
            "dtype: float64\n",
            "\n",
            "Persebaran data setelah ditangani Outlier: \n",
            "       Luas genangan  Tinggi genangan  Lama genangan\n",
            "count     244.000000       244.000000     244.000000\n",
            "mean        0.760167        10.293033      21.258197\n",
            "std         0.589484         5.609295      14.128851\n",
            "min         0.131661         3.000000       3.000000\n",
            "25%         0.324975         4.000000      15.000000\n",
            "50%         0.527731         9.000000      16.000000\n",
            "75%         0.983013        11.000000      31.000000\n",
            "max         1.970070        21.500000      55.000000\n"
          ]
        },
        {
          "output_type": "stream",
          "name": "stderr",
          "text": [
            "/usr/local/lib/python3.7/dist-packages/ipykernel_launcher.py:10: FutureWarning: Automatic reindexing on DataFrame vs Series comparisons is deprecated and will raise ValueError in a future version.  Do `left, right = left.align(right, axis=1, copy=False)` before e.g. `left == right`\n",
            "  # Remove the CWD from sys.path while we load stuff.\n",
            "/usr/local/lib/python3.7/dist-packages/ipykernel_launcher.py:11: FutureWarning: Automatic reindexing on DataFrame vs Series comparisons is deprecated and will raise ValueError in a future version.  Do `left, right = left.align(right, axis=1, copy=False)` before e.g. `left == right`\n",
            "  # This is added back by InteractiveShellApp.init_path()\n",
            "/usr/local/lib/python3.7/dist-packages/seaborn/_decorators.py:43: FutureWarning: Pass the following variable as a keyword arg: x. From version 0.12, the only valid positional argument will be `data`, and passing other arguments without an explicit keyword will result in an error or misinterpretation.\n",
            "  FutureWarning\n",
            "/usr/local/lib/python3.7/dist-packages/seaborn/_decorators.py:43: FutureWarning: Pass the following variable as a keyword arg: x. From version 0.12, the only valid positional argument will be `data`, and passing other arguments without an explicit keyword will result in an error or misinterpretation.\n",
            "  FutureWarning\n",
            "/usr/local/lib/python3.7/dist-packages/seaborn/_decorators.py:43: FutureWarning: Pass the following variable as a keyword arg: x. From version 0.12, the only valid positional argument will be `data`, and passing other arguments without an explicit keyword will result in an error or misinterpretation.\n",
            "  FutureWarning\n"
          ]
        },
        {
          "output_type": "display_data",
          "data": {
            "text/plain": [
              "<Figure size 360x360 with 3 Axes>"
            ],
            "image/png": "[encoded data removed]"
          },
          "metadata": {
            "needs_background": "light"
          }
        }
      ]
    },
    {
      "cell_type": "markdown",
      "source": [
        "Perbaikan penyebaran data dengan metode interquartile range"
      ],
      "metadata": {
        "id": "7Nh_GWkeKl7u"
      }
    },
    {
      "cell_type": "code",
      "source": [
        "scatter_matrix(df[['Luas genangan','Tinggi genangan','Lama genangan']])\n",
        "plt.show"
      ],
      "metadata": {
        "colab": {
          "base_uri": "https://localhost:8080/",
          "height": 299
        },
        "id": "fH_53qojwgXG",
        "outputId": "97424e58-0057-4af4-eee2-7c6cf7e3e0e2"
      },
      "execution_count": null,
      "outputs": [
        {
          "output_type": "execute_result",
          "data": {
            "text/plain": [
              "<function matplotlib.pyplot.show>"
            ]
          },
          "metadata": {},
          "execution_count": 198
        },
        {
          "output_type": "display_data",
          "data": {
            "text/plain": [
              "<Figure size 432x288 with 9 Axes>"
            ],
            "image/png": "[encoded data removed]"
          },
          "metadata": {
            "needs_background": "light"
          }
        }
      ]
    },
    {
      "cell_type": "code",
      "source": [
        "df.corr()"
      ],
      "metadata": {
        "colab": {
          "base_uri": "https://localhost:8080/",
          "height": 269
        },
        "id": "j-s6I2LYxigA",
        "outputId": "612fb7c6-c124-49bc-bc1a-1de9cda388a4"
      },
      "execution_count": null,
      "outputs": [
        {
          "output_type": "execute_result",
          "data": {
            "text/plain": [
              "                           _id  Luas genangan  Tinggi genangan  Lama genangan  \\\n",
              "_id                   1.000000       0.024506        -0.204766      -0.178456   \n",
              "Luas genangan         0.024506       1.000000        -0.003604       0.036573   \n",
              "Tinggi genangan      -0.204766      -0.003604         1.000000       0.318252   \n",
              "Lama genangan        -0.178456       0.036573         0.318252       1.000000   \n",
              "Skor Luas Genangan   -0.010880       0.932414         0.039802       0.076826   \n",
              "Skor Tinggi Genangan -0.172571       0.008854         0.943769       0.277533   \n",
              "Skor Lama Genangan   -0.127171       0.072344         0.261591       0.866623   \n",
              "\n",
              "                      Skor Luas Genangan  Skor Tinggi Genangan  \\\n",
              "_id                            -0.010880             -0.172571   \n",
              "Luas genangan                   0.932414              0.008854   \n",
              "Tinggi genangan                 0.039802              0.943769   \n",
              "Lama genangan                   0.076826              0.277533   \n",
              "Skor Luas Genangan              1.000000              0.049136   \n",
              "Skor Tinggi Genangan            0.049136              1.000000   \n",
              "Skor Lama Genangan              0.116348              0.231115   \n",
              "\n",
              "                      Skor Lama Genangan  \n",
              "_id                            -0.127171  \n",
              "Luas genangan                   0.072344  \n",
              "Tinggi genangan                 0.261591  \n",
              "Lama genangan                   0.866623  \n",
              "Skor Luas Genangan              0.116348  \n",
              "Skor Tinggi Genangan            0.231115  \n",
              "Skor Lama Genangan              1.000000  "
            ],
            "text/html": [
              "\n",
              "  <div id=\"df-b78a36ca-83ba-4cd0-9c70-29970eab1b50\">\n",
              "    <div class=\"colab-df-container\">\n",
              "      <div>\n",
              "<style scoped>\n",
              "    .dataframe tbody tr th:only-of-type {\n",
              "        vertical-align: middle;\n",
              "    }\n",
              "\n",
              "    .dataframe tbody tr th {\n",
              "        vertical-align: top;\n",
              "    }\n",
              "\n",
              "    .dataframe thead th {\n",
              "        text-align: right;\n",
              "    }\n",
              "</style>\n",
              "<table border=\"1\" class=\"dataframe\">\n",
              "  <thead>\n",
              "    <tr style=\"text-align: right;\">\n",
              "      <th></th>\n",
              "      <th>_id</th>\n",
              "      <th>Luas genangan</th>\n",
              "      <th>Tinggi genangan</th>\n",
              "      <th>Lama genangan</th>\n",
              "      <th>Skor Luas Genangan</th>\n",
              "      <th>Skor Tinggi Genangan</th>\n",
              "      <th>Skor Lama Genangan</th>\n",
              "    </tr>\n",
              "  </thead>\n",
              "  <tbody>\n",
              "    <tr>\n",
              "      <th>_id</th>\n",
              "      <td>1.000000</td>\n",
              "      <td>0.024506</td>\n",
              "      <td>-0.204766</td>\n",
              "      <td>-0.178456</td>\n",
              "      <td>-0.010880</td>\n",
              "      <td>-0.172571</td>\n",
              "      <td>-0.127171</td>\n",
              "    </tr>\n",
              "    <tr>\n",
              "      <th>Luas genangan</th>\n",
              "      <td>0.024506</td>\n",
              "      <td>1.000000</td>\n",
              "      <td>-0.003604</td>\n",
              "      <td>0.036573</td>\n",
              "      <td>0.932414</td>\n",
              "      <td>0.008854</td>\n",
              "      <td>0.072344</td>\n",
              "    </tr>\n",
              "    <tr>\n",
              "      <th>Tinggi genangan</th>\n",
              "      <td>-0.204766</td>\n",
              "      <td>-0.003604</td>\n",
              "      <td>1.000000</td>\n",
              "      <td>0.318252</td>\n",
              "      <td>0.039802</td>\n",
              "      <td>0.943769</td>\n",
              "      <td>0.261591</td>\n",
              "    </tr>\n",
              "    <tr>\n",
              "      <th>Lama genangan</th>\n",
              "      <td>-0.178456</td>\n",
              "      <td>0.036573</td>\n",
              "      <td>0.318252</td>\n",
              "      <td>1.000000</td>\n",
              "      <td>0.076826</td>\n",
              "      <td>0.277533</td>\n",
              "      <td>0.866623</td>\n",
              "    </tr>\n",
              "    <tr>\n",
              "      <th>Skor Luas Genangan</th>\n",
              "      <td>-0.010880</td>\n",
              "      <td>0.932414</td>\n",
              "      <td>0.039802</td>\n",
              "      <td>0.076826</td>\n",
              "      <td>1.000000</td>\n",
              "      <td>0.049136</td>\n",
              "      <td>0.116348</td>\n",
              "    </tr>\n",
              "    <tr>\n",
              "      <th>Skor Tinggi Genangan</th>\n",
              "      <td>-0.172571</td>\n",
              "      <td>0.008854</td>\n",
              "      <td>0.943769</td>\n",
              "      <td>0.277533</td>\n",
              "      <td>0.049136</td>\n",
              "      <td>1.000000</td>\n",
              "      <td>0.231115</td>\n",
              "    </tr>\n",
              "    <tr>\n",
              "      <th>Skor Lama Genangan</th>\n",
              "      <td>-0.127171</td>\n",
              "      <td>0.072344</td>\n",
              "      <td>0.261591</td>\n",
              "      <td>0.866623</td>\n",
              "      <td>0.116348</td>\n",
              "      <td>0.231115</td>\n",
              "      <td>1.000000</td>\n",
              "    </tr>\n",
              "  </tbody>\n",
              "</table>\n",
              "</div>\n",
              "      <button class=\"colab-df-convert\" onclick=\"convertToInteractive('df-b78a36ca-83ba-4cd0-9c70-29970eab1b50')\"\n",
              "              title=\"Convert this dataframe to an interactive table.\"\n",
              "              style=\"display:none;\">\n",
              "        \n",
              "  <svg xmlns=\"http://www.w3.org/2000/svg\" height=\"24px\"viewBox=\"0 0 24 24\"\n",
              "       width=\"24px\">\n",
              "    <path d=\"M0 0h24v24H0V0z\" fill=\"none\"/>\n",
              "    <path d=\"M18.56 5.44l.94 2.06.94-2.06 2.06-.94-2.06-.94-.94-2.06-.94 2.06-2.06.94zm-11 1L8.5 8.5l.94-2.06 2.06-.94-2.06-.94L8.5 2.5l-.94 2.06-2.06.94zm10 10l.94 2.06.94-2.06 2.06-.94-2.06-.94-.94-2.06-.94 2.06-2.06.94z\"/><path d=\"M17.41 7.96l-1.37-1.37c-.4-.4-.92-.59-1.43-.59-.52 0-1.04.2-1.43.59L10.3 9.45l-7.72 7.72c-.78.78-.78 2.05 0 2.83L4 21.41c.39.39.9.59 1.41.59.51 0 1.02-.2 1.41-.59l7.78-7.78 2.81-2.81c.8-.78.8-2.07 0-2.86zM5.41 20L4 18.59l7.72-7.72 1.47 1.35L5.41 20z\"/>\n",
              "  </svg>\n",
              "      </button>\n",
              "      \n",
              "  <style>\n",
              "    .colab-df-container {\n",
              "      display:flex;\n",
              "      flex-wrap:wrap;\n",
              "      gap: 12px;\n",
              "    }\n",
              "\n",
              "    .colab-df-convert {\n",
              "      background-color: #E8F0FE;\n",
              "      border: none;\n",
              "      border-radius: 50%;\n",
              "      cursor: pointer;\n",
              "      display: none;\n",
              "      fill: #1967D2;\n",
              "      height: 32px;\n",
              "      padding: 0 0 0 0;\n",
              "      width: 32px;\n",
              "    }\n",
              "\n",
              "    .colab-df-convert:hover {\n",
              "      background-color: #E2EBFA;\n",
              "      box-shadow: 0px 1px 2px rgba(60, 64, 67, 0.3), 0px 1px 3px 1px rgba(60, 64, 67, 0.15);\n",
              "      fill: #174EA6;\n",
              "    }\n",
              "\n",
              "    [theme=dark] .colab-df-convert {\n",
              "      background-color: #3B4455;\n",
              "      fill: #D2E3FC;\n",
              "    }\n",
              "\n",
              "    [theme=dark] .colab-df-convert:hover {\n",
              "      background-color: #434B5C;\n",
              "      box-shadow: 0px 1px 3px 1px rgba(0, 0, 0, 0.15);\n",
              "      filter: drop-shadow(0px 1px 2px rgba(0, 0, 0, 0.3));\n",
              "      fill: #FFFFFF;\n",
              "    }\n",
              "  </style>\n",
              "\n",
              "      <script>\n",
              "        const buttonEl =\n",
              "          document.querySelector('#df-b78a36ca-83ba-4cd0-9c70-29970eab1b50 button.colab-df-convert');\n",
              "        buttonEl.style.display =\n",
              "          google.colab.kernel.accessAllowed ? 'block' : 'none';\n",
              "\n",
              "        async function convertToInteractive(key) {\n",
              "          const element = document.querySelector('#df-b78a36ca-83ba-4cd0-9c70-29970eab1b50');\n",
              "          const dataTable =\n",
              "            await google.colab.kernel.invokeFunction('convertToInteractive',\n",
              "                                                     [key], {});\n",
              "          if (!dataTable) return;\n",
              "\n",
              "          const docLinkHtml = 'Like what you see? Visit the ' +\n",
              "            '<a target=\"_blank\" href=https://colab.research.google.com/notebooks/data_table.ipynb>data table notebook</a>'\n",
              "            + ' to learn more about interactive tables.';\n",
              "          element.innerHTML = '';\n",
              "          dataTable['output_type'] = 'display_data';\n",
              "          await google.colab.output.renderOutput(dataTable, element);\n",
              "          const docLink = document.createElement('div');\n",
              "          docLink.innerHTML = docLinkHtml;\n",
              "          element.appendChild(docLink);\n",
              "        }\n",
              "      </script>\n",
              "    </div>\n",
              "  </div>\n",
              "  "
            ]
          },
          "metadata": {},
          "execution_count": 170
        }
      ]
    },
    {
      "cell_type": "code",
      "source": [
        "sns.heatmap(df.corr(), annot = True)\n",
        "plt.show()"
      ],
      "metadata": {
        "id": "5K4s9gqyRst4",
        "outputId": "28aabadb-48b4-490c-ebbc-650762384a68",
        "colab": {
          "base_uri": "https://localhost:8080/",
          "height": 370
        }
      },
      "execution_count": null,
      "outputs": [
        {
          "output_type": "display_data",
          "data": {
            "text/plain": [
              "<Figure size 432x288 with 2 Axes>"
            ],
            "image/png": "[encoded data removed]"
          },
          "metadata": {
            "needs_background": "light"
          }
        }
      ]
    },
    {
      "cell_type": "markdown",
      "source": [
        "menghitung korelasi dari setiap variabel"
      ],
      "metadata": {
        "id": "x42u6e_-xlGi"
      }
    },
    {
      "cell_type": "code",
      "source": [
        "df.keys()"
      ],
      "metadata": {
        "colab": {
          "base_uri": "https://localhost:8080/"
        },
        "id": "oXAvDrYtuAb2",
        "outputId": "f8b81cc0-88d7-4a79-bebc-82ffed6421b8"
      },
      "execution_count": null,
      "outputs": [
        {
          "output_type": "execute_result",
          "data": {
            "text/plain": [
              "Index(['_id', 'Lokasi', 'Kecamatan', 'Kelurahan', 'Rayon', 'Luas genangan',\n",
              "       'Tinggi genangan', 'Lama genangan', 'Skor Luas Genangan',\n",
              "       'Skor Tinggi Genangan', 'Skor Lama Genangan'],\n",
              "      dtype='object')"
            ]
          },
          "metadata": {},
          "execution_count": 172
        }
      ]
    },
    {
      "cell_type": "code",
      "source": [
        "df._id[0]"
      ],
      "metadata": {
        "colab": {
          "base_uri": "https://localhost:8080/"
        },
        "id": "q0G0j7S5uWl9",
        "outputId": "b45492a0-0ccd-4035-c3d7-8e16a1d34270"
      },
      "execution_count": null,
      "outputs": [
        {
          "output_type": "execute_result",
          "data": {
            "text/plain": [
              "1"
            ]
          },
          "metadata": {},
          "execution_count": 173
        }
      ]
    },
    {
      "cell_type": "markdown",
      "source": [
        "## K-Means"
      ],
      "metadata": {
        "id": "vu95Us7SdmNU"
      }
    },
    {
      "cell_type": "markdown",
      "source": [
        "## MixMaxScaler"
      ],
      "metadata": {
        "id": "Oc9qU0nz6wKq"
      }
    },
    {
      "cell_type": "code",
      "source": [
        "from sklearn.cluster import KMeans\n",
        "from sklearn.preprocessing import MinMaxScaler\n",
        "from sklearn.preprocessing import scale # Data scaling\n",
        "from sklearn import decomposition\n",
        "from sklearn.preprocessing import StandardScaler"
      ],
      "metadata": {
        "id": "ydEQnkLKjXTa"
      },
      "execution_count": null,
      "outputs": []
    },
    {
      "cell_type": "code",
      "source": [
        "array_x=df[['Luas genangan','Tinggi genangan','Lama genangan']]"
      ],
      "metadata": {
        "id": "ublSDRBvqWjd"
      },
      "execution_count": null,
      "outputs": []
    },
    {
      "cell_type": "code",
      "source": [
        "scaler_fit = MinMaxScaler()\n",
        "scaled_x = scaler_fit.fit_transform(array_x)\n",
        "scaled_x"
      ],
      "metadata": {
        "colab": {
          "base_uri": "https://localhost:8080/"
        },
        "id": "pZycmZ3vl55F",
        "outputId": "e6d137e4-cc5c-43d8-ee4b-2fef5229440d"
      },
      "execution_count": null,
      "outputs": [
        {
          "output_type": "execute_result",
          "data": {
            "text/plain": [
              "array([[1.00000000e+00, 3.78378378e-01, 7.11538462e-01],\n",
              "       [3.72373638e-01, 1.00000000e+00, 1.00000000e+00],\n",
              "       [2.05278600e-01, 6.48648649e-01, 2.50000000e-01],\n",
              "       [3.55443236e-01, 3.78378378e-01, 7.11538462e-01],\n",
              "       [3.36190718e-01, 1.00000000e+00, 2.50000000e-01],\n",
              "       [5.68047736e-01, 5.40540541e-02, 2.50000000e-01],\n",
              "       [1.00000000e+00, 3.78378378e-01, 2.50000000e-01],\n",
              "       [2.74933399e-02, 3.78378378e-01, 2.50000000e-01],\n",
              "       [4.00329878e-02, 5.40540541e-02, 2.50000000e-01],\n",
              "       [6.90749494e-02, 1.00000000e+00, 2.50000000e-01],\n",
              "       [4.84054452e-02, 1.00000000e+00, 2.50000000e-01],\n",
              "       [2.92856506e-02, 1.00000000e+00, 2.50000000e-01],\n",
              "       [1.42703293e-01, 6.48648649e-01, 7.11538462e-01],\n",
              "       [5.38104996e-01, 3.78378378e-01, 7.11538462e-01],\n",
              "       [2.25491187e-01, 1.00000000e+00, 1.00000000e+00],\n",
              "       [3.04121138e-01, 1.00000000e+00, 9.03846154e-01],\n",
              "       [5.06318269e-02, 1.00000000e+00, 7.11538462e-01],\n",
              "       [1.00000000e+00, 3.78378378e-01, 5.38461538e-01],\n",
              "       [1.90523449e-02, 3.78378378e-01, 2.50000000e-01],\n",
              "       [9.60194451e-02, 3.78378378e-01, 7.11538462e-01],\n",
              "       [1.93979155e-01, 6.48648649e-01, 2.50000000e-01],\n",
              "       [1.00000000e+00, 1.00000000e+00, 2.50000000e-01],\n",
              "       [1.24699681e-01, 1.00000000e+00, 5.38461538e-01],\n",
              "       [4.40554879e-02, 1.00000000e+00, 2.50000000e-01],\n",
              "       [1.53236314e-01, 1.00000000e+00, 2.50000000e-01],\n",
              "       [3.63901637e-04, 1.00000000e+00, 2.50000000e-01],\n",
              "       [3.43125519e-01, 5.40540541e-02, 2.50000000e-01],\n",
              "       [4.82137577e-01, 5.40540541e-02, 2.50000000e-01],\n",
              "       [1.33615543e-02, 3.24324324e-01, 2.50000000e-01],\n",
              "       [5.77891031e-02, 3.78378378e-01, 2.50000000e-01],\n",
              "       [9.98298053e-02, 3.78378378e-01, 2.50000000e-01],\n",
              "       [1.00000000e+00, 1.00000000e+00, 2.50000000e-01],\n",
              "       [2.61646909e-01, 6.48648649e-01, 2.50000000e-01],\n",
              "       [5.49301091e-02, 5.40540541e-02, 3.84615385e-02],\n",
              "       [4.32846039e-01, 3.24324324e-01, 2.50000000e-01],\n",
              "       [3.46929896e-01, 3.24324324e-01, 2.50000000e-01],\n",
              "       [9.94365848e-01, 5.40540541e-02, 2.50000000e-01],\n",
              "       [3.42743123e-01, 6.48648649e-01, 2.50000000e-01],\n",
              "       [5.14091295e-02, 3.24324324e-01, 7.11538462e-01],\n",
              "       [8.11133486e-01, 3.78378378e-01, 5.38461538e-01],\n",
              "       [4.56743335e-01, 1.00000000e+00, 5.38461538e-01],\n",
              "       [3.96206747e-01, 3.78378378e-01, 2.50000000e-01],\n",
              "       [7.66019474e-01, 3.24324324e-01, 2.50000000e-01],\n",
              "       [5.68763029e-01, 6.48648649e-01, 2.50000000e-01],\n",
              "       [3.47330242e-01, 6.48648649e-01, 2.50000000e-01],\n",
              "       [1.85663268e-01, 6.48648649e-01, 2.50000000e-01],\n",
              "       [1.97410383e-01, 1.00000000e+00, 5.38461538e-01],\n",
              "       [2.30339402e-01, 1.00000000e+00, 5.38461538e-01],\n",
              "       [2.70890228e-01, 1.00000000e+00, 2.50000000e-01],\n",
              "       [1.11933750e-02, 5.40540541e-02, 2.50000000e-01],\n",
              "       [1.00000000e+00, 8.10810811e-01, 7.11538462e-01],\n",
              "       [3.84828429e-01, 5.40540541e-02, 2.50000000e-01],\n",
              "       [1.00000000e+00, 3.78378378e-01, 2.50000000e-01],\n",
              "       [4.60234941e-02, 3.78378378e-01, 2.50000000e-01],\n",
              "       [5.97048902e-02, 3.78378378e-01, 2.50000000e-01],\n",
              "       [3.08899727e-01, 3.78378378e-01, 2.50000000e-01],\n",
              "       [1.07828026e-01, 6.48648649e-01, 2.50000000e-01],\n",
              "       [9.38800951e-03, 6.48648649e-01, 2.50000000e-01],\n",
              "       [6.08841708e-03, 3.78378378e-01, 2.50000000e-01],\n",
              "       [5.16174619e-02, 3.78378378e-01, 2.50000000e-01],\n",
              "       [1.07614798e-02, 3.24324324e-01, 2.50000000e-01],\n",
              "       [4.17877661e-01, 3.24324324e-01, 2.50000000e-01],\n",
              "       [4.52275884e-01, 3.24324324e-01, 5.38461538e-01],\n",
              "       [4.26614564e-01, 3.24324324e-01, 2.50000000e-01],\n",
              "       [1.59657084e-01, 3.78378378e-01, 5.38461538e-01],\n",
              "       [1.42621157e-01, 5.40540541e-02, 2.50000000e-01],\n",
              "       [5.28359068e-01, 6.48648649e-01, 5.38461538e-01],\n",
              "       [7.87702899e-02, 3.78378378e-01, 2.50000000e-01],\n",
              "       [1.00000000e+00, 6.48648649e-01, 2.50000000e-01],\n",
              "       [1.00000000e+00, 3.24324324e-01, 1.00000000e+00],\n",
              "       [1.74329554e-01, 6.48648649e-01, 2.50000000e-01],\n",
              "       [6.79935795e-02, 3.78378378e-01, 1.92307692e-01],\n",
              "       [1.84954503e-01, 3.24324324e-01, 2.50000000e-01],\n",
              "       [1.00000000e+00, 6.48648649e-01, 2.50000000e-01],\n",
              "       [2.24351615e-01, 3.24324324e-01, 2.50000000e-01],\n",
              "       [2.07286858e-01, 6.48648649e-01, 2.50000000e-01],\n",
              "       [7.31496686e-02, 6.48648649e-01, 2.50000000e-01],\n",
              "       [9.94108016e-01, 1.00000000e+00, 2.50000000e-01],\n",
              "       [1.00000000e+00, 5.40540541e-02, 2.50000000e-01],\n",
              "       [1.00000000e+00, 3.78378378e-01, 2.50000000e-01],\n",
              "       [5.29479602e-03, 5.40540541e-02, 2.50000000e-01],\n",
              "       [4.38487874e-02, 1.00000000e+00, 7.11538462e-01],\n",
              "       [1.27870901e-01, 3.24324324e-01, 7.11538462e-01],\n",
              "       [4.27592583e-01, 5.40540541e-02, 1.00000000e+00],\n",
              "       [1.00000000e+00, 5.40540541e-02, 2.50000000e-01],\n",
              "       [1.00000000e+00, 5.40540541e-02, 2.50000000e-01],\n",
              "       [2.06227246e-01, 3.24324324e-01, 7.11538462e-01],\n",
              "       [2.35922490e-01, 8.10810811e-01, 7.11538462e-01],\n",
              "       [1.32573337e-01, 3.24324324e-01, 4.42307692e-01],\n",
              "       [6.83455143e-02, 5.40540541e-02, 7.11538462e-01],\n",
              "       [2.43874475e-01, 5.40540541e-02, 2.50000000e-01],\n",
              "       [3.83032311e-01, 5.40540541e-02, 2.50000000e-01],\n",
              "       [1.29225877e-02, 5.40540541e-02, 2.50000000e-01],\n",
              "       [2.96834946e-01, 3.24324324e-01, 5.38461538e-01],\n",
              "       [5.50200238e-01, 5.40540541e-02, 2.50000000e-01],\n",
              "       [1.00000000e+00, 3.78378378e-01, 5.38461538e-01],\n",
              "       [1.00000000e+00, 3.78378378e-01, 2.50000000e-01],\n",
              "       [3.32118175e-01, 3.24324324e-01, 2.50000000e-01],\n",
              "       [4.94379685e-01, 3.78378378e-01, 1.00000000e+00],\n",
              "       [1.00000000e+00, 5.40540541e-02, 7.11538462e-01],\n",
              "       [1.00000000e+00, 5.40540541e-02, 2.50000000e-01],\n",
              "       [1.84684161e-01, 5.40540541e-02, 2.50000000e-01],\n",
              "       [1.11061257e-01, 3.78378378e-01, 2.50000000e-01],\n",
              "       [8.73422132e-01, 5.40540541e-02, 2.50000000e-01],\n",
              "       [1.54867616e-02, 5.40540541e-02, 2.50000000e-01],\n",
              "       [1.00000000e+00, 5.40540541e-02, 7.11538462e-01],\n",
              "       [2.62503628e-01, 3.78378378e-01, 5.38461538e-01],\n",
              "       [3.64335165e-01, 3.24324324e-01, 5.38461538e-01],\n",
              "       [2.05455383e-01, 3.78378378e-01, 1.00000000e+00],\n",
              "       [1.99889701e-01, 3.78378378e-01, 5.38461538e-01],\n",
              "       [1.19887367e-01, 3.24324324e-01, 2.50000000e-01],\n",
              "       [3.65011293e-02, 5.40540541e-02, 3.84615385e-02],\n",
              "       [8.20829371e-02, 5.40540541e-02, 3.84615385e-02],\n",
              "       [1.83697438e-01, 3.24324324e-01, 7.11538462e-01],\n",
              "       [4.09582444e-01, 6.48648649e-01, 7.11538462e-01],\n",
              "       [1.34406988e-01, 5.40540541e-02, 3.84615385e-02],\n",
              "       [7.36109371e-02, 5.40540541e-02, 3.84615385e-02],\n",
              "       [1.00000000e+00, 3.78378378e-01, 1.92307692e-01],\n",
              "       [1.00000000e+00, 5.94594595e-01, 2.50000000e-01],\n",
              "       [2.73595285e-01, 7.56756757e-01, 2.50000000e-01],\n",
              "       [7.91015546e-02, 3.78378378e-01, 2.50000000e-01],\n",
              "       [9.96459506e-03, 5.40540541e-02, 3.84615385e-02],\n",
              "       [8.75050171e-03, 3.24324324e-01, 2.30769231e-01],\n",
              "       [9.55821104e-02, 5.40540541e-02, 3.84615385e-02],\n",
              "       [3.59547873e-01, 1.00000000e+00, 1.00000000e+00],\n",
              "       [9.83747427e-02, 3.24324324e-01, 7.11538462e-01],\n",
              "       [3.06858832e-01, 5.40540541e-02, 2.50000000e-01],\n",
              "       [2.21042231e-01, 3.24324324e-01, 2.50000000e-01],\n",
              "       [1.32456388e-01, 1.62162162e-01, 1.00000000e+00],\n",
              "       [3.95318479e-01, 6.48648649e-01, 1.00000000e+00],\n",
              "       [9.64790817e-02, 2.70270270e-01, 2.50000000e-01],\n",
              "       [1.40049367e-01, 3.24324324e-01, 2.50000000e-01],\n",
              "       [4.02467596e-02, 5.40540541e-02, 3.84615385e-02],\n",
              "       [1.12533182e-01, 3.24324324e-01, 2.50000000e-01],\n",
              "       [3.00137259e-01, 3.78378378e-01, 2.50000000e-01],\n",
              "       [4.63776047e-02, 0.00000000e+00, 1.92307692e-01],\n",
              "       [1.00000000e+00, 5.40540541e-02, 2.50000000e-01],\n",
              "       [1.17749105e-01, 5.40540541e-02, 2.50000000e-01],\n",
              "       [1.00000000e+00, 3.78378378e-01, 1.00000000e+00],\n",
              "       [1.95217182e-01, 5.40540541e-02, 3.84615385e-02],\n",
              "       [3.50782140e-01, 3.78378378e-01, 2.50000000e-01],\n",
              "       [5.17452898e-02, 5.40540541e-02, 1.92307692e-01],\n",
              "       [1.64672834e-01, 5.40540541e-02, 2.50000000e-01],\n",
              "       [1.30906135e-01, 3.78378378e-01, 2.50000000e-01],\n",
              "       [6.63276280e-01, 3.24324324e-01, 2.50000000e-01],\n",
              "       [1.50577493e-01, 5.40540541e-02, 2.50000000e-01],\n",
              "       [3.11617839e-01, 5.40540541e-02, 5.38461538e-01],\n",
              "       [3.30752864e-01, 5.40540541e-02, 1.00000000e+00],\n",
              "       [2.12150847e-02, 3.24324324e-01, 2.50000000e-01],\n",
              "       [8.30000345e-02, 9.18918919e-01, 1.00000000e+00],\n",
              "       [2.44420056e-01, 2.70270270e-01, 1.00000000e+00],\n",
              "       [1.88517911e-01, 5.40540541e-02, 5.38461538e-01],\n",
              "       [1.36842790e-01, 3.78378378e-01, 7.11538462e-01],\n",
              "       [4.15992335e-01, 3.24324324e-01, 2.50000000e-01],\n",
              "       [8.30348472e-02, 3.24324324e-01, 2.50000000e-01],\n",
              "       [2.95529470e-01, 5.40540541e-02, 1.92307692e-01],\n",
              "       [2.51488124e-01, 3.24324324e-01, 2.50000000e-01],\n",
              "       [8.12976384e-01, 3.78378378e-01, 2.50000000e-01],\n",
              "       [1.13692336e-01, 3.24324324e-01, 2.50000000e-01],\n",
              "       [1.04348931e-01, 5.40540541e-02, 1.92307692e-01],\n",
              "       [4.14539448e-01, 5.40540541e-02, 3.84615385e-02],\n",
              "       [2.19211300e-02, 5.40540541e-02, 2.30769231e-01],\n",
              "       [7.56507445e-02, 5.40540541e-02, 3.84615385e-02],\n",
              "       [1.05273643e-01, 3.24324324e-01, 1.92307692e-01],\n",
              "       [1.46992328e-01, 3.24324324e-01, 2.50000000e-01],\n",
              "       [1.54461287e-01, 5.40540541e-02, 3.84615385e-02],\n",
              "       [2.82468719e-01, 1.00000000e+00, 2.50000000e-01],\n",
              "       [1.56058864e-03, 3.24324324e-01, 3.84615385e-02],\n",
              "       [0.00000000e+00, 5.40540541e-02, 3.84615385e-02],\n",
              "       [4.71064958e-02, 5.40540541e-02, 3.84615385e-02],\n",
              "       [2.93259028e-02, 3.24324324e-01, 2.50000000e-01],\n",
              "       [1.68087200e-01, 5.40540541e-02, 1.92307692e-01],\n",
              "       [2.32185019e-01, 5.40540541e-02, 1.92307692e-01],\n",
              "       [5.91346144e-01, 5.40540541e-02, 1.92307692e-01],\n",
              "       [5.66968542e-02, 8.10810811e-01, 6.92307692e-01],\n",
              "       [1.97743279e-01, 5.94594595e-01, 1.92307692e-01],\n",
              "       [2.59251359e-02, 5.40540541e-02, 3.84615385e-02],\n",
              "       [6.91244487e-02, 3.78378378e-01, 2.50000000e-01],\n",
              "       [1.49545623e-01, 3.24324324e-01, 2.50000000e-01],\n",
              "       [7.01296658e-02, 3.78378378e-01, 1.92307692e-01],\n",
              "       [1.00000000e+00, 3.78378378e-01, 2.50000000e-01],\n",
              "       [2.90530038e-01, 5.40540541e-02, 1.92307692e-01],\n",
              "       [2.07286858e-01, 5.40540541e-02, 3.84615385e-02],\n",
              "       [1.32852927e-01, 0.00000000e+00, 2.50000000e-01],\n",
              "       [3.56633940e-01, 1.00000000e+00, 5.00000000e-01],\n",
              "       [5.07116786e-01, 5.40540541e-02, 8.65384615e-01],\n",
              "       [2.05419483e-01, 3.78378378e-01, 5.19230769e-01],\n",
              "       [5.06356346e-01, 3.24324324e-01, 8.65384615e-01],\n",
              "       [1.91216984e-01, 1.00000000e+00, 8.65384615e-01],\n",
              "       [1.00000000e+00, 3.24324324e-01, 2.30769231e-01],\n",
              "       [8.36163283e-02, 1.00000000e+00, 8.65384615e-01],\n",
              "       [1.87918479e-01, 8.10810811e-01, 5.19230769e-01],\n",
              "       [3.92563923e-01, 1.00000000e+00, 6.92307692e-01],\n",
              "       [2.20844234e-01, 1.00000000e+00, 6.92307692e-01],\n",
              "       [3.74216535e-01, 8.10810811e-01, 6.92307692e-01],\n",
              "       [1.67971339e-01, 5.40540541e-02, 6.92307692e-01],\n",
              "       [1.96981751e-01, 3.78378378e-01, 6.92307692e-01],\n",
              "       [6.59983759e-02, 8.10810811e-01, 2.30769231e-01],\n",
              "       [9.22836602e-01, 1.00000000e+00, 8.65384615e-01],\n",
              "       [1.37181126e-01, 5.40540541e-02, 5.19230769e-01],\n",
              "       [3.59777419e-01, 1.00000000e+00, 6.92307692e-01],\n",
              "       [1.33907099e-01, 3.24324324e-01, 2.30769231e-01],\n",
              "       [5.47798704e-01, 5.40540541e-02, 5.19230769e-01],\n",
              "       [2.74392714e-01, 3.24324324e-01, 2.30769231e-01],\n",
              "       [2.22014268e-01, 3.24324324e-01, 8.65384615e-01],\n",
              "       [1.09395142e-01, 3.24324324e-01, 5.19230769e-01],\n",
              "       [8.75882412e-02, 3.24324324e-01, 5.19230769e-01],\n",
              "       [3.31245137e-01, 3.24324324e-01, 5.19230769e-01],\n",
              "       [1.90230261e-01, 3.78378378e-01, 5.19230769e-01],\n",
              "       [1.26192276e-01, 3.78378378e-01, 6.92307692e-01],\n",
              "       [3.83767186e-01, 1.00000000e+00, 6.92307692e-01],\n",
              "       [5.51313157e-01, 3.78378378e-01, 5.19230769e-01],\n",
              "       [1.51952051e-01, 8.10810811e-01, 2.30769231e-01],\n",
              "       [1.80482701e-01, 8.10810811e-01, 2.30769231e-01],\n",
              "       [1.19034456e-01, 5.40540541e-02, 5.19230769e-01],\n",
              "       [4.89493394e-01, 1.00000000e+00, 5.19230769e-01],\n",
              "       [1.33240218e-01, 3.78378378e-01, 5.19230769e-01],\n",
              "       [3.35237720e-01, 3.24324324e-01, 0.00000000e+00],\n",
              "       [5.37568119e-01, 3.24324324e-01, 0.00000000e+00],\n",
              "       [1.07725764e-01, 3.24324324e-01, 0.00000000e+00],\n",
              "       [1.57717363e-01, 3.24324324e-01, 0.00000000e+00],\n",
              "       [6.98195063e-01, 3.24324324e-01, 0.00000000e+00],\n",
              "       [6.64529538e-01, 3.24324324e-01, 0.00000000e+00],\n",
              "       [3.46642147e-01, 3.24324324e-01, 0.00000000e+00],\n",
              "       [5.50908459e-01, 3.24324324e-01, 0.00000000e+00],\n",
              "       [5.75225139e-01, 3.24324324e-01, 0.00000000e+00],\n",
              "       [8.75361309e-01, 3.24324324e-01, 0.00000000e+00],\n",
              "       [1.00000000e+00, 3.24324324e-01, 0.00000000e+00],\n",
              "       [1.00000000e+00, 3.24324324e-01, 0.00000000e+00],\n",
              "       [1.00000000e+00, 3.24324324e-01, 0.00000000e+00],\n",
              "       [1.00000000e+00, 3.24324324e-01, 0.00000000e+00],\n",
              "       [2.10039238e-01, 3.24324324e-01, 0.00000000e+00],\n",
              "       [3.30857302e-01, 3.24324324e-01, 0.00000000e+00],\n",
              "       [2.43787988e-01, 3.24324324e-01, 0.00000000e+00],\n",
              "       [1.05207825e-01, 3.24324324e-01, 0.00000000e+00],\n",
              "       [1.04989158e-01, 3.24324324e-01, 0.00000000e+00],\n",
              "       [5.75258863e-01, 3.24324324e-01, 0.00000000e+00],\n",
              "       [5.43100620e-01, 3.24324324e-01, 0.00000000e+00],\n",
              "       [3.71930319e-02, 3.24324324e-01, 0.00000000e+00],\n",
              "       [1.10158302e-01, 3.24324324e-01, 0.00000000e+00],\n",
              "       [3.91485273e-01, 3.24324324e-01, 0.00000000e+00],\n",
              "       [1.00000000e+00, 3.24324324e-01, 2.30769231e-01],\n",
              "       [1.00000000e+00, 3.24324324e-01, 3.26923077e-01],\n",
              "       [1.00000000e+00, 5.40540541e-02, 2.30769231e-01]])"
            ]
          },
          "metadata": {},
          "execution_count": 176
        }
      ]
    },
    {
      "cell_type": "code",
      "source": [
        "kmeans = KMeans(n_clusters=3, random_state=40)"
      ],
      "metadata": {
        "id": "S8ET174umJF8"
      },
      "execution_count": null,
      "outputs": []
    },
    {
      "cell_type": "code",
      "source": [
        "kmeans.fit(scaled_x)"
      ],
      "metadata": {
        "id": "pjWc1zuImR21",
        "colab": {
          "base_uri": "https://localhost:8080/"
        },
        "outputId": "016a0f63-e3aa-4b1c-ad7a-df16a04d55e4"
      },
      "execution_count": null,
      "outputs": [
        {
          "output_type": "execute_result",
          "data": {
            "text/plain": [
              "KMeans(n_clusters=3, random_state=40)"
            ]
          },
          "metadata": {},
          "execution_count": 178
        }
      ]
    },
    {
      "cell_type": "code",
      "source": [
        "print(kmeans.cluster_centers_)"
      ],
      "metadata": {
        "id": "Hm0JpClNmWkP",
        "colab": {
          "base_uri": "https://localhost:8080/"
        },
        "outputId": "f226fe9b-e9c2-4aa0-daca-4a33a7041aff"
      },
      "execution_count": null,
      "outputs": [
        {
          "output_type": "stream",
          "name": "stdout",
          "text": [
            "[[0.25116326 0.66151866 0.58150183]\n",
            " [0.1878503  0.21713239 0.20257497]\n",
            " [0.95603304 0.35714286 0.30769231]]\n"
          ]
        }
      ]
    },
    {
      "cell_type": "code",
      "source": [
        "df[\"kluster\"]= kmeans.labels_"
      ],
      "metadata": {
        "id": "x8LV3I9Fmj-N"
      },
      "execution_count": null,
      "outputs": []
    },
    {
      "cell_type": "code",
      "source": [
        "print(kmeans.labels_)"
      ],
      "metadata": {
        "id": "vh2517sOmrHN",
        "colab": {
          "base_uri": "https://localhost:8080/"
        },
        "outputId": "1800bf6d-bccc-4053-e92c-05337ab1ea1d"
      },
      "execution_count": null,
      "outputs": [
        {
          "output_type": "stream",
          "name": "stdout",
          "text": [
            "[2 0 0 0 0 1 2 1 1 0 0 0 0 0 0 0 0 2 1 0 0 2 0 0 0 0 1 1 1 1 1 2 0 1 1 1 2\n",
            " 0 0 2 0 1 2 0 0 0 0 0 0 1 2 1 2 1 1 1 0 0 1 1 1 1 0 1 0 1 0 1 2 2 0 1 1 2\n",
            " 1 0 0 2 2 2 1 0 0 0 2 2 0 0 1 1 1 1 1 0 1 2 2 1 0 2 2 1 1 2 1 2 0 0 0 0 1\n",
            " 1 1 0 0 1 1 2 2 0 1 1 1 1 0 0 1 1 0 0 1 1 1 1 1 1 2 1 2 1 1 1 1 1 2 1 1 0\n",
            " 1 0 0 1 0 1 1 1 1 2 1 1 1 1 1 1 1 1 0 1 1 1 1 1 1 1 0 1 1 1 1 1 2 1 1 1 0\n",
            " 0 0 0 0 2 0 0 0 0 0 1 0 0 0 1 0 1 1 1 0 1 1 0 0 0 0 0 0 0 1 0 0 1 1 1 1 2\n",
            " 2 1 1 1 2 2 2 2 2 1 1 1 1 1 1 1 1 1 1 2 2 2]\n"
          ]
        }
      ]
    },
    {
      "cell_type": "code",
      "source": [
        "print(df.kluster)"
      ],
      "metadata": {
        "id": "5L0fDqrX7gXu",
        "colab": {
          "base_uri": "https://localhost:8080/"
        },
        "outputId": "7b4240ea-5bc9-48c7-abb7-6ab89dc81af2"
      },
      "execution_count": null,
      "outputs": [
        {
          "output_type": "stream",
          "name": "stdout",
          "text": [
            "0      2\n",
            "1      0\n",
            "2      0\n",
            "3      0\n",
            "4      0\n",
            "      ..\n",
            "239    1\n",
            "240    1\n",
            "241    2\n",
            "242    2\n",
            "243    2\n",
            "Name: kluster, Length: 244, dtype: int32\n"
          ]
        }
      ]
    },
    {
      "cell_type": "code",
      "source": [
        "sum(df['kluster']==2)"
      ],
      "metadata": {
        "colab": {
          "base_uri": "https://localhost:8080/"
        },
        "id": "tVxJsqIRrj6K",
        "outputId": "f36dfcde-3ff8-4957-87d1-5272677b76ab"
      },
      "execution_count": null,
      "outputs": [
        {
          "output_type": "execute_result",
          "data": {
            "text/plain": [
              "42"
            ]
          },
          "metadata": {},
          "execution_count": 183
        }
      ]
    },
    {
      "cell_type": "code",
      "source": [
        "output = plt.scatter(scaled_x[:,0],scaled_x[:,1], s=100, c=df.kluster)\n",
        "centers= kmeans.cluster_centers_\n",
        "plt.scatter(centers[:,0], centers[:,1],c='red',s=100, alpha=1, marker=\"o\");\n",
        "plt.colorbar(output)\n",
        "plt.show()"
      ],
      "metadata": {
        "id": "UyMsITTinHUO",
        "colab": {
          "base_uri": "https://localhost:8080/",
          "height": 269
        },
        "outputId": "9b74369e-5a31-4b0b-c344-b9ef29436bbd"
      },
      "execution_count": null,
      "outputs": [
        {
          "output_type": "display_data",
          "data": {
            "text/plain": [
              "<Figure size 432x288 with 2 Axes>"
            ],
            "image/png": "[encoded data removed]"
          },
          "metadata": {
            "needs_background": "light"
          }
        }
      ]
    },
    {
      "cell_type": "code",
      "source": [
        "print(df)"
      ],
      "metadata": {
        "id": "_ggNMXNi6PLm",
        "colab": {
          "base_uri": "https://localhost:8080/"
        },
        "outputId": "22d288d8-373b-410b-bb5c-4abe4c60c04b"
      },
      "execution_count": null,
      "outputs": [
        {
          "output_type": "stream",
          "name": "stdout",
          "text": [
            "     _id                               Lokasi      Kecamatan      Kelurahan  \\\n",
            "0      1           Jl. Pakis Agosari (Yamaha)    Dukuh Pakis    Dukuh Pakis   \n",
            "1      2  Jl. Mayjend Sungkono - Darmo Park I    Dukuh Pakis    Dukuh Pakis   \n",
            "2      3    Jl. Mayjend Sungkono (Pom Bensin)    Dukuh Pakis    Dukuh Pakis   \n",
            "3      4                          Kp. Kebraon   Karangpilang     Warugunung   \n",
            "4      5              Jl. Lakar Santri RW.001    Lakarsantri     Bangkingan   \n",
            "..   ...                                  ...            ...            ...   \n",
            "239  240                            Jl. Kanwa      WONOKROMO          DARMO   \n",
            "240  241                 Per. Rungkut Harapan        Rungkut  Rungkut Kidul   \n",
            "241  242                        TANJUNGSARI I  SUKOMANUNGGAL    TANJUNGSARI   \n",
            "242  243                       Jl. Karangrejo      Wonokromo      Wonokromo   \n",
            "243  244                       Kp. Tambakdono         Benowo     Tambakdono   \n",
            "\n",
            "               Rayon  Luas genangan  Tinggi genangan  Lama genangan  \\\n",
            "0       Rayon Wiyung       1.970070             10.0             40   \n",
            "1       Rayon Wiyung       0.816236             21.5             55   \n",
            "2       Rayon Wiyung       0.509047             15.0             16   \n",
            "3       Rayon Wiyung       0.785111             10.0             40   \n",
            "4       Rayon Wiyung       0.749717             21.5             16   \n",
            "..               ...            ...              ...            ...   \n",
            "239    Rayon Genteng       0.334177              9.0              3   \n",
            "240  Rayon Jambangan       0.851371              9.0              3   \n",
            "241     Rayon Tandes       1.970070              9.0             15   \n",
            "242  Rayon Jambangan       1.970070              9.0             20   \n",
            "243     Rayon Tandes       1.970070              4.0             15   \n",
            "\n",
            "     Skor Luas Genangan  Skor Tinggi Genangan  Skor Lama Genangan  kluster  \n",
            "0                   100                    25                  25        2  \n",
            "1                    75                    50                  25        0  \n",
            "2                    75                    50                   0        0  \n",
            "3                    75                    25                  25        0  \n",
            "4                    75                    50                   0        0  \n",
            "..                  ...                   ...                 ...      ...  \n",
            "239                  50                    25                   0        1  \n",
            "240                  75                    25                   0        1  \n",
            "241                 100                    25                   0        2  \n",
            "242                 100                    25                   0        2  \n",
            "243                 100                     0                   0        2  \n",
            "\n",
            "[244 rows x 12 columns]\n"
          ]
        }
      ]
    },
    {
      "cell_type": "markdown",
      "source": [
        "Standard Scaler"
      ],
      "metadata": {
        "id": "CiCg8GwK2SGI"
      }
    },
    {
      "cell_type": "code",
      "source": [
        "x = df.iloc[:,5:8] # 1t for rows and second for columns\n",
        "x"
      ],
      "metadata": {
        "colab": {
          "base_uri": "https://localhost:8080/",
          "height": 424
        },
        "id": "YUkX_KPZTMNr",
        "outputId": "8029b1f3-c71c-402e-b4a4-db8c42ad1261"
      },
      "execution_count": null,
      "outputs": [
        {
          "output_type": "execute_result",
          "data": {
            "text/plain": [
              "     Luas genangan  Tinggi genangan  Lama genangan\n",
              "0         1.970070             10.0             40\n",
              "1         0.816236             21.5             55\n",
              "2         0.509047             15.0             16\n",
              "3         0.785111             10.0             40\n",
              "4         0.749717             21.5             16\n",
              "..             ...              ...            ...\n",
              "239       0.334177              9.0              3\n",
              "240       0.851371              9.0              3\n",
              "241       1.970070              9.0             15\n",
              "242       1.970070              9.0             20\n",
              "243       1.970070              4.0             15\n",
              "\n",
              "[244 rows x 3 columns]"
            ],
            "text/html": [
              "\n",
              "  <div id=\"df-2b9e38f9-7167-49de-8f07-2ea7160f9bfa\">\n",
              "    <div class=\"colab-df-container\">\n",
              "      <div>\n",
              "<style scoped>\n",
              "    .dataframe tbody tr th:only-of-type {\n",
              "        vertical-align: middle;\n",
              "    }\n",
              "\n",
              "    .dataframe tbody tr th {\n",
              "        vertical-align: top;\n",
              "    }\n",
              "\n",
              "    .dataframe thead th {\n",
              "        text-align: right;\n",
              "    }\n",
              "</style>\n",
              "<table border=\"1\" class=\"dataframe\">\n",
              "  <thead>\n",
              "    <tr style=\"text-align: right;\">\n",
              "      <th></th>\n",
              "      <th>Luas genangan</th>\n",
              "      <th>Tinggi genangan</th>\n",
              "      <th>Lama genangan</th>\n",
              "    </tr>\n",
              "  </thead>\n",
              "  <tbody>\n",
              "    <tr>\n",
              "      <th>0</th>\n",
              "      <td>1.970070</td>\n",
              "      <td>10.0</td>\n",
              "      <td>40</td>\n",
              "    </tr>\n",
              "    <tr>\n",
              "      <th>1</th>\n",
              "      <td>0.816236</td>\n",
              "      <td>21.5</td>\n",
              "      <td>55</td>\n",
              "    </tr>\n",
              "    <tr>\n",
              "      <th>2</th>\n",
              "      <td>0.509047</td>\n",
              "      <td>15.0</td>\n",
              "      <td>16</td>\n",
              "    </tr>\n",
              "    <tr>\n",
              "      <th>3</th>\n",
              "      <td>0.785111</td>\n",
              "      <td>10.0</td>\n",
              "      <td>40</td>\n",
              "    </tr>\n",
              "    <tr>\n",
              "      <th>4</th>\n",
              "      <td>0.749717</td>\n",
              "      <td>21.5</td>\n",
              "      <td>16</td>\n",
              "    </tr>\n",
              "    <tr>\n",
              "      <th>...</th>\n",
              "      <td>...</td>\n",
              "      <td>...</td>\n",
              "      <td>...</td>\n",
              "    </tr>\n",
              "    <tr>\n",
              "      <th>239</th>\n",
              "      <td>0.334177</td>\n",
              "      <td>9.0</td>\n",
              "      <td>3</td>\n",
              "    </tr>\n",
              "    <tr>\n",
              "      <th>240</th>\n",
              "      <td>0.851371</td>\n",
              "      <td>9.0</td>\n",
              "      <td>3</td>\n",
              "    </tr>\n",
              "    <tr>\n",
              "      <th>241</th>\n",
              "      <td>1.970070</td>\n",
              "      <td>9.0</td>\n",
              "      <td>15</td>\n",
              "    </tr>\n",
              "    <tr>\n",
              "      <th>242</th>\n",
              "      <td>1.970070</td>\n",
              "      <td>9.0</td>\n",
              "      <td>20</td>\n",
              "    </tr>\n",
              "    <tr>\n",
              "      <th>243</th>\n",
              "      <td>1.970070</td>\n",
              "      <td>4.0</td>\n",
              "      <td>15</td>\n",
              "    </tr>\n",
              "  </tbody>\n",
              "</table>\n",
              "<p>244 rows × 3 columns</p>\n",
              "</div>\n",
              "      <button class=\"colab-df-convert\" onclick=\"convertToInteractive('df-2b9e38f9-7167-49de-8f07-2ea7160f9bfa')\"\n",
              "              title=\"Convert this dataframe to an interactive table.\"\n",
              "              style=\"display:none;\">\n",
              "        \n",
              "  <svg xmlns=\"http://www.w3.org/2000/svg\" height=\"24px\"viewBox=\"0 0 24 24\"\n",
              "       width=\"24px\">\n",
              "    <path d=\"M0 0h24v24H0V0z\" fill=\"none\"/>\n",
              "    <path d=\"M18.56 5.44l.94 2.06.94-2.06 2.06-.94-2.06-.94-.94-2.06-.94 2.06-2.06.94zm-11 1L8.5 8.5l.94-2.06 2.06-.94-2.06-.94L8.5 2.5l-.94 2.06-2.06.94zm10 10l.94 2.06.94-2.06 2.06-.94-2.06-.94-.94-2.06-.94 2.06-2.06.94z\"/><path d=\"M17.41 7.96l-1.37-1.37c-.4-.4-.92-.59-1.43-.59-.52 0-1.04.2-1.43.59L10.3 9.45l-7.72 7.72c-.78.78-.78 2.05 0 2.83L4 21.41c.39.39.9.59 1.41.59.51 0 1.02-.2 1.41-.59l7.78-7.78 2.81-2.81c.8-.78.8-2.07 0-2.86zM5.41 20L4 18.59l7.72-7.72 1.47 1.35L5.41 20z\"/>\n",
              "  </svg>\n",
              "      </button>\n",
              "      \n",
              "  <style>\n",
              "    .colab-df-container {\n",
              "      display:flex;\n",
              "      flex-wrap:wrap;\n",
              "      gap: 12px;\n",
              "    }\n",
              "\n",
              "    .colab-df-convert {\n",
              "      background-color: #E8F0FE;\n",
              "      border: none;\n",
              "      border-radius: 50%;\n",
              "      cursor: pointer;\n",
              "      display: none;\n",
              "      fill: #1967D2;\n",
              "      height: 32px;\n",
              "      padding: 0 0 0 0;\n",
              "      width: 32px;\n",
              "    }\n",
              "\n",
              "    .colab-df-convert:hover {\n",
              "      background-color: #E2EBFA;\n",
              "      box-shadow: 0px 1px 2px rgba(60, 64, 67, 0.3), 0px 1px 3px 1px rgba(60, 64, 67, 0.15);\n",
              "      fill: #174EA6;\n",
              "    }\n",
              "\n",
              "    [theme=dark] .colab-df-convert {\n",
              "      background-color: #3B4455;\n",
              "      fill: #D2E3FC;\n",
              "    }\n",
              "\n",
              "    [theme=dark] .colab-df-convert:hover {\n",
              "      background-color: #434B5C;\n",
              "      box-shadow: 0px 1px 3px 1px rgba(0, 0, 0, 0.15);\n",
              "      filter: drop-shadow(0px 1px 2px rgba(0, 0, 0, 0.3));\n",
              "      fill: #FFFFFF;\n",
              "    }\n",
              "  </style>\n",
              "\n",
              "      <script>\n",
              "        const buttonEl =\n",
              "          document.querySelector('#df-2b9e38f9-7167-49de-8f07-2ea7160f9bfa button.colab-df-convert');\n",
              "        buttonEl.style.display =\n",
              "          google.colab.kernel.accessAllowed ? 'block' : 'none';\n",
              "\n",
              "        async function convertToInteractive(key) {\n",
              "          const element = document.querySelector('#df-2b9e38f9-7167-49de-8f07-2ea7160f9bfa');\n",
              "          const dataTable =\n",
              "            await google.colab.kernel.invokeFunction('convertToInteractive',\n",
              "                                                     [key], {});\n",
              "          if (!dataTable) return;\n",
              "\n",
              "          const docLinkHtml = 'Like what you see? Visit the ' +\n",
              "            '<a target=\"_blank\" href=https://colab.research.google.com/notebooks/data_table.ipynb>data table notebook</a>'\n",
              "            + ' to learn more about interactive tables.';\n",
              "          element.innerHTML = '';\n",
              "          dataTable['output_type'] = 'display_data';\n",
              "          await google.colab.output.renderOutput(dataTable, element);\n",
              "          const docLink = document.createElement('div');\n",
              "          docLink.innerHTML = docLinkHtml;\n",
              "          element.appendChild(docLink);\n",
              "        }\n",
              "      </script>\n",
              "    </div>\n",
              "  </div>\n",
              "  "
            ]
          },
          "metadata": {},
          "execution_count": 186
        }
      ]
    },
    {
      "cell_type": "code",
      "source": [
        "kmeans = KMeans(3)\n",
        "kmeans.fit(x)"
      ],
      "metadata": {
        "colab": {
          "base_uri": "https://localhost:8080/"
        },
        "id": "nLzZWDPKTkE4",
        "outputId": "57ff2a22-830b-4cde-dcd1-179617c03bd2"
      },
      "execution_count": null,
      "outputs": [
        {
          "output_type": "execute_result",
          "data": {
            "text/plain": [
              "KMeans(n_clusters=3)"
            ]
          },
          "metadata": {},
          "execution_count": 187
        }
      ]
    },
    {
      "cell_type": "code",
      "source": [
        "identified_clusters = kmeans.fit_predict(x)\n",
        "identified_clusters"
      ],
      "metadata": {
        "colab": {
          "base_uri": "https://localhost:8080/"
        },
        "id": "hQ6cbr0CUCbv",
        "outputId": "368ecd14-5713-4b09-aa50-4ceb6920e9dc"
      },
      "execution_count": null,
      "outputs": [
        {
          "output_type": "execute_result",
          "data": {
            "text/plain": [
              "array([1, 1, 0, 1, 0, 0, 0, 0, 0, 0, 0, 0, 1, 1, 1, 1, 1, 1, 0, 1, 0, 0,\n",
              "       1, 0, 0, 0, 0, 0, 0, 0, 0, 0, 0, 2, 0, 0, 0, 0, 1, 1, 1, 0, 0, 0,\n",
              "       0, 0, 1, 1, 0, 0, 1, 0, 0, 0, 0, 0, 0, 0, 0, 0, 0, 0, 1, 0, 1, 0,\n",
              "       1, 0, 0, 1, 0, 0, 0, 0, 0, 0, 0, 0, 0, 0, 0, 1, 1, 1, 0, 0, 1, 1,\n",
              "       0, 1, 0, 0, 0, 1, 0, 1, 0, 0, 1, 1, 0, 0, 0, 0, 0, 1, 1, 1, 1, 1,\n",
              "       0, 2, 2, 1, 1, 2, 2, 0, 0, 0, 0, 2, 0, 2, 1, 1, 0, 0, 1, 1, 0, 0,\n",
              "       2, 0, 0, 0, 0, 0, 1, 2, 0, 0, 0, 0, 0, 0, 1, 1, 0, 1, 1, 1, 1, 0,\n",
              "       0, 0, 0, 0, 0, 0, 2, 0, 2, 0, 0, 2, 0, 2, 2, 2, 0, 0, 0, 0, 1, 0,\n",
              "       2, 0, 0, 0, 0, 0, 2, 0, 1, 1, 1, 1, 1, 0, 1, 1, 1, 1, 1, 1, 1, 0,\n",
              "       1, 1, 1, 0, 1, 0, 1, 1, 1, 1, 1, 1, 1, 1, 0, 0, 1, 1, 1, 2, 2, 2,\n",
              "       2, 2, 2, 2, 2, 2, 2, 2, 2, 2, 2, 2, 2, 2, 2, 2, 2, 2, 2, 2, 2, 0,\n",
              "       0, 0], dtype=int32)"
            ]
          },
          "metadata": {},
          "execution_count": 188
        }
      ]
    },
    {
      "cell_type": "code",
      "source": [
        "scaler_fit = StandardScaler()\n",
        "scaled_x = scaler_fit.fit_transform(array_x)\n",
        "scaled_x"
      ],
      "metadata": {
        "colab": {
          "base_uri": "https://localhost:8080/"
        },
        "id": "y-1nJbcTVniH",
        "outputId": "28a91e0a-ba87-4cfe-faeb-cad75b82ff44"
      },
      "execution_count": null,
      "outputs": [
        {
          "output_type": "execute_result",
          "data": {
            "text/plain": [
              "array([[ 2.05669672, -0.05234795,  1.32921832],\n",
              "       [ 0.09531161,  2.0020347 ,  2.39305805],\n",
              "       [-0.42687442,  0.84086189, -0.37292524],\n",
              "       [ 0.04240268, -0.05234795,  1.32921832],\n",
              "       [-0.01776305,  2.0020347 , -0.37292524],\n",
              "       [ 0.70680961, -1.12419977, -0.37292524],\n",
              "       [ 2.05669672, -0.05234795, -0.37292524],\n",
              "       [-0.9824683 , -0.05234795, -0.37292524],\n",
              "       [-0.94328084, -1.12419977, -0.37292524],\n",
              "       [-0.85252227,  2.0020347 , -0.37292524],\n",
              "       [-0.91711621,  2.0020347 , -0.37292524],\n",
              "       [-0.97686717,  2.0020347 , -0.37292524],\n",
              "       [-0.62242751,  0.84086189,  1.32921832],\n",
              "       [ 0.61323603, -0.05234795,  1.32921832],\n",
              "       [-0.36370839,  2.0020347 ,  2.39305805],\n",
              "       [-0.11798319,  2.0020347 ,  2.03844481],\n",
              "       [-0.91015858,  2.0020347 ,  1.32921832],\n",
              "       [ 2.05669672, -0.05234795,  0.69091449],\n",
              "       [-1.00884711, -0.05234795, -0.37292524],\n",
              "       [-0.76831846, -0.05234795,  1.32921832],\n",
              "       [-0.46218614,  0.84086189, -0.37292524],\n",
              "       [ 2.05669672,  2.0020347 , -0.37292524],\n",
              "       [-0.67869031,  2.0020347 ,  0.69091449],\n",
              "       [-0.93071019,  2.0020347 , -0.37292524],\n",
              "       [-0.58951094,  2.0020347 , -0.37292524],\n",
              "       [-1.06725007,  2.0020347 , -0.37292524],\n",
              "       [ 0.00390878, -1.12419977, -0.37292524],\n",
              "       [ 0.43833314, -1.12419977, -0.37292524],\n",
              "       [-1.02663131, -0.23098992, -0.37292524],\n",
              "       [-0.88779149, -0.05234795, -0.37292524],\n",
              "       [-0.75641076, -0.05234795, -0.37292524],\n",
              "       [ 2.05669672,  2.0020347 , -0.37292524],\n",
              "       [-0.25071872,  0.84086189, -0.37292524],\n",
              "       [-0.89672609, -1.12419977, -1.15307437],\n",
              "       [ 0.28429294, -0.23098992, -0.37292524],\n",
              "       [ 0.01579778, -0.23098992, -0.37292524],\n",
              "       [ 2.03908952, -1.12419977, -0.37292524],\n",
              "       [ 0.00271376,  0.84086189, -0.37292524],\n",
              "       [-0.90772944, -0.23098992,  1.32921832],\n",
              "       [ 1.466473  , -0.05234795,  0.69091449],\n",
              "       [ 0.358974  ,  2.0020347 ,  0.69091449],\n",
              "       [ 0.16979208, -0.05234795, -0.37292524],\n",
              "       [ 1.32548792, -0.23098992, -0.37292524],\n",
              "       [ 0.70904495,  0.84086189, -0.37292524],\n",
              "       [ 0.01704889,  0.84086189, -0.37292524],\n",
              "       [-0.48817398,  0.84086189, -0.37292524],\n",
              "       [-0.45146326,  2.0020347 ,  0.69091449],\n",
              "       [-0.34855731,  2.0020347 ,  0.69091449],\n",
              "       [-0.22183257,  2.0020347 , -0.37292524],\n",
              "       [-1.03340706, -1.12419977, -0.37292524],\n",
              "       [ 2.05669672,  1.3767878 ,  1.32921832],\n",
              "       [ 0.13423388, -1.12419977, -0.37292524],\n",
              "       [ 2.05669672, -0.05234795, -0.37292524],\n",
              "       [-0.92456001, -0.05234795, -0.37292524],\n",
              "       [-0.8818045 , -0.05234795, -0.37292524],\n",
              "       [-0.10304969, -0.05234795, -0.37292524],\n",
              "       [-0.73141565,  0.84086189, -0.37292524],\n",
              "       [-1.03904897,  0.84086189, -0.37292524],\n",
              "       [-1.04936048, -0.05234795, -0.37292524],\n",
              "       [-0.90707839, -0.05234795, -0.37292524],\n",
              "       [-1.03475676, -0.23098992, -0.37292524],\n",
              "       [ 0.2375155 , -0.23098992, -0.37292524],\n",
              "       [ 0.34501284, -0.23098992,  0.69091449],\n",
              "       [ 0.26481906, -0.23098992, -0.37292524],\n",
              "       [-0.56944549, -0.05234795,  0.69091449],\n",
              "       [-0.6226842 , -1.12419977, -0.37292524],\n",
              "       [ 0.58277918,  0.84086189,  0.69091449],\n",
              "       [-0.82222352, -0.05234795, -0.37292524],\n",
              "       [ 2.05669672,  0.84086189, -0.37292524],\n",
              "       [ 2.05669672, -0.23098992,  2.39305805],\n",
              "       [-0.52359279,  0.84086189, -0.37292524],\n",
              "       [-0.85590164, -0.05234795, -0.58569318],\n",
              "       [-0.49038893, -0.23098992, -0.37292524],\n",
              "       [ 2.05669672,  0.84086189, -0.37292524],\n",
              "       [-0.36726965, -0.23098992, -0.37292524],\n",
              "       [-0.42059845,  0.84086189, -0.37292524],\n",
              "       [-0.83978843,  0.84086189, -0.37292524],\n",
              "       [ 2.03828377,  2.0020347 , -0.37292524],\n",
              "       [ 2.05669672, -1.12419977, -0.37292524],\n",
              "       [ 2.05669672, -0.05234795, -0.37292524],\n",
              "       [-1.05184061, -1.12419977, -0.37292524],\n",
              "       [-0.93135615,  2.0020347 ,  1.32921832],\n",
              "       [-0.66877998, -0.23098992,  1.32921832],\n",
              "       [ 0.26787545, -1.12419977,  2.39305805],\n",
              "       [ 2.05669672, -1.12419977, -0.37292524],\n",
              "       [ 2.05669672, -1.12419977, -0.37292524],\n",
              "       [-0.42390982, -0.23098992,  1.32921832],\n",
              "       [-0.33110969,  1.3767878 ,  1.32921832],\n",
              "       [-0.65408448, -0.23098992,  0.33630125],\n",
              "       [-0.85480182, -1.12419977,  1.32921832],\n",
              "       [-0.30625907, -1.12419977, -0.37292524],\n",
              "       [ 0.12862086, -1.12419977, -0.37292524],\n",
              "       [-1.02800312, -1.12419977, -0.37292524],\n",
              "       [-0.14075315, -0.23098992,  0.69091449],\n",
              "       [ 0.65103467, -1.12419977, -0.37292524],\n",
              "       [ 2.05669672, -0.05234795,  0.69091449],\n",
              "       [ 2.05669672, -0.05234795, -0.37292524],\n",
              "       [-0.0304901 , -0.23098992, -0.37292524],\n",
              "       [ 0.47659076, -0.05234795,  2.39305805],\n",
              "       [ 2.05669672, -1.12419977,  1.32921832],\n",
              "       [ 2.05669672, -1.12419977, -0.37292524],\n",
              "       [-0.49123378, -1.12419977, -0.37292524],\n",
              "       [-0.72131154, -0.05234795, -0.37292524],\n",
              "       [ 1.66113025, -1.12419977, -0.37292524],\n",
              "       [-1.01998986, -1.12419977, -0.37292524],\n",
              "       [ 2.05669672, -1.12419977,  1.32921832],\n",
              "       [-0.2480414 , -0.05234795,  0.69091449],\n",
              "       [ 0.0701907 , -0.23098992,  0.69091449],\n",
              "       [-0.42632196, -0.05234795,  2.39305805],\n",
              "       [-0.44371518, -0.05234795,  0.69091449],\n",
              "       [-0.6937292 , -0.23098992, -0.37292524],\n",
              "       [-0.9543182 , -1.12419977, -1.15307437],\n",
              "       [-0.81187122, -1.12419977, -1.15307437],\n",
              "       [-0.49431737, -0.23098992,  1.32921832],\n",
              "       [ 0.21159225,  0.84086189,  1.32921832],\n",
              "       [-0.64835416, -1.12419977, -1.15307437],\n",
              "       [-0.83834693, -1.12419977, -1.15307437],\n",
              "       [ 2.05669672, -0.05234795, -0.58569318],\n",
              "       [ 2.05669672,  0.66221992, -0.37292524],\n",
              "       [-0.21337904,  1.19814583, -0.37292524],\n",
              "       [-0.82118829, -0.05234795, -0.37292524],\n",
              "       [-1.0372471 , -1.12419977, -1.15307437],\n",
              "       [-1.04104124, -0.23098992, -0.44384789],\n",
              "       [-0.76968517, -1.12419977, -1.15307437],\n",
              "       [ 0.05523002,  2.0020347 ,  2.39305805],\n",
              "       [-0.76095796, -0.23098992,  1.32921832],\n",
              "       [-0.10942766, -1.12419977, -0.37292524],\n",
              "       [-0.37761175, -0.23098992, -0.37292524],\n",
              "       [-0.65444995, -0.76691583,  2.39305805],\n",
              "       [ 0.16701616,  0.84086189,  2.39305805],\n",
              "       [-0.76688206, -0.40963189, -0.37292524],\n",
              "       [-0.63072125, -0.23098992, -0.37292524],\n",
              "       [-0.94261279, -1.12419977, -1.15307437],\n",
              "       [-0.71671165, -0.23098992, -0.37292524],\n",
              "       [-0.13043314, -0.05234795, -0.37292524],\n",
              "       [-0.92345338, -1.30284174, -0.58569318],\n",
              "       [ 2.05669672, -1.12419977, -0.37292524],\n",
              "       [-0.70041145, -1.12419977, -0.37292524],\n",
              "       [ 2.05669672, -0.05234795,  2.39305805],\n",
              "       [-0.4583172 , -1.12419977, -1.15307437],\n",
              "       [ 0.02783637, -0.05234795, -0.37292524],\n",
              "       [-0.90667891, -1.12419977, -0.58569318],\n",
              "       [-0.55377085, -1.12419977, -0.37292524],\n",
              "       [-0.65929462, -0.05234795, -0.37292524],\n",
              "       [ 1.00440681, -0.23098992, -0.37292524],\n",
              "       [-0.59781998, -1.12419977, -0.37292524],\n",
              "       [-0.09455537, -1.12419977,  0.69091449],\n",
              "       [-0.03475681, -1.12419977,  2.39305805],\n",
              "       [-1.00208837, -0.23098992, -0.37292524],\n",
              "       [-0.80900521,  1.73407174,  2.39305805],\n",
              "       [-0.30455408, -0.40963189,  2.39305805],\n",
              "       [-0.47925298, -1.12419977,  0.69091449],\n",
              "       [-0.64074208, -0.05234795,  1.32921832],\n",
              "       [ 0.2316237 , -0.23098992, -0.37292524],\n",
              "       [-0.80889642, -0.23098992, -0.37292524],\n",
              "       [-0.14483287, -1.12419977, -0.58569318],\n",
              "       [-0.28246578, -0.23098992, -0.37292524],\n",
              "       [ 1.47223221, -0.05234795, -0.37292524],\n",
              "       [-0.71308919, -0.23098992, -0.37292524],\n",
              "       [-0.74228812, -1.12419977, -0.58569318],\n",
              "       [ 0.22708331, -1.12419977, -1.15307437],\n",
              "       [-0.99988192, -1.12419977, -0.44384789],\n",
              "       [-0.83197236, -1.12419977, -1.15307437],\n",
              "       [-0.73939831, -0.23098992, -0.58569318],\n",
              "       [-0.60902392, -0.23098992, -0.37292524],\n",
              "       [-0.5856828 , -1.12419977, -1.15307437],\n",
              "       [-0.18564882,  2.0020347 , -0.37292524],\n",
              "       [-1.06351032, -0.23098992, -1.15307437],\n",
              "       [-1.06838729, -1.12419977, -1.15307437],\n",
              "       [-0.92117554, -1.12419977, -1.15307437],\n",
              "       [-0.97674138, -0.23098992, -0.37292524],\n",
              "       [-0.54310067, -1.12419977, -0.58569318],\n",
              "       [-0.3427896 , -1.12419977, -0.58569318],\n",
              "       [ 0.77961909, -1.12419977, -0.58569318],\n",
              "       [-0.89120486,  1.3767878 ,  1.25829568],\n",
              "       [-0.45042293,  0.66221992, -0.58569318],\n",
              "       [-0.98736906, -1.12419977, -1.15307437],\n",
              "       [-0.85236758, -0.05234795, -0.37292524],\n",
              "       [-0.60104466, -0.23098992, -0.37292524],\n",
              "       [-0.8492262 , -0.05234795, -0.58569318],\n",
              "       [ 2.05669672, -0.05234795, -0.37292524],\n",
              "       [-0.16045652, -1.12419977, -0.58569318],\n",
              "       [-0.42059845, -1.12419977, -1.15307437],\n",
              "       [-0.65321073, -1.30284174, -0.37292524],\n",
              "       [ 0.04612373,  2.0020347 ,  0.54906919],\n",
              "       [ 0.51639527, -1.12419977,  1.89659951],\n",
              "       [-0.42643415, -0.05234795,  0.61999184],\n",
              "       [ 0.51401883, -0.23098992,  1.89659951],\n",
              "       [-0.47081815,  2.0020347 ,  1.89659951],\n",
              "       [ 2.05669672, -0.23098992, -0.44384789],\n",
              "       [-0.80707924,  2.0020347 ,  1.89659951],\n",
              "       [-0.48112626,  1.3767878 ,  0.61999184],\n",
              "       [ 0.15840795,  2.0020347 ,  1.25829568],\n",
              "       [-0.37823051,  2.0020347 ,  1.25829568],\n",
              "       [ 0.10107082,  1.3767878 ,  1.25829568],\n",
              "       [-0.54346275, -1.12419977,  1.25829568],\n",
              "       [-0.45280277, -0.05234795,  1.25829568],\n",
              "       [-0.86213682,  1.3767878 , -0.44384789],\n",
              "       [ 1.81555462,  2.0020347 ,  1.89659951],\n",
              "       [-0.63968475, -1.12419977,  0.61999184],\n",
              "       [ 0.05594737,  2.0020347 ,  1.25829568],\n",
              "       [-0.64991636, -0.23098992, -0.44384789],\n",
              "       [ 0.64352968, -1.12419977,  0.61999184],\n",
              "       [-0.21088701, -0.23098992, -0.44384789],\n",
              "       [-0.37457405, -0.23098992,  1.89659951],\n",
              "       [-0.72651828, -0.23098992,  0.61999184],\n",
              "       [-0.79466668, -0.23098992,  0.61999184],\n",
              "       [-0.03321841, -0.23098992,  0.61999184],\n",
              "       [-0.47390175, -0.05234795,  0.61999184],\n",
              "       [-0.67402583, -0.05234795,  1.25829568],\n",
              "       [ 0.1309174 ,  2.0020347 ,  1.25829568],\n",
              "       [ 0.65451264, -0.05234795,  0.61999184],\n",
              "       [-0.59352437,  1.3767878 , -0.44384789],\n",
              "       [-0.50436369,  1.3767878 , -0.44384789],\n",
              "       [-0.69639462, -1.12419977,  0.61999184],\n",
              "       [ 0.46132069,  2.0020347 ,  0.61999184],\n",
              "       [-0.65200042, -0.05234795,  0.61999184],\n",
              "       [-0.02074125, -0.23098992, -1.29491967],\n",
              "       [ 0.61155824, -0.23098992, -1.29491967],\n",
              "       [-0.73173523, -0.23098992, -1.29491967],\n",
              "       [-0.57550728, -0.23098992, -1.29491967],\n",
              "       [ 1.11353093, -0.23098992, -1.29491967],\n",
              "       [ 1.00832334, -0.23098992, -1.29491967],\n",
              "       [ 0.01489854, -0.23098992, -1.29491967],\n",
              "       [ 0.65324792, -0.23098992, -1.29491967],\n",
              "       [ 0.72923959, -0.23098992, -1.29491967],\n",
              "       [ 1.66719034, -0.23098992, -1.29491967],\n",
              "       [ 2.05669672, -0.23098992, -1.29491967],\n",
              "       [ 2.05669672, -0.23098992, -1.29491967],\n",
              "       [ 2.05669672, -0.23098992, -1.29491967],\n",
              "       [ 2.05669672, -0.23098992, -1.29491967],\n",
              "       [-0.41199703, -0.23098992, -1.29491967],\n",
              "       [-0.03443043, -0.23098992, -1.29491967],\n",
              "       [-0.30652935, -0.23098992, -1.29491967],\n",
              "       [-0.739604  , -0.23098992, -1.29491967],\n",
              "       [-0.74028735, -0.23098992, -1.29491967],\n",
              "       [ 0.72934498, -0.23098992, -1.29491967],\n",
              "       [ 0.62884777, -0.23098992, -1.29491967],\n",
              "       [-0.95215594, -0.23098992, -1.29491967],\n",
              "       [-0.72413334, -0.23098992, -1.29491967],\n",
              "       [ 0.15503707, -0.23098992, -1.29491967],\n",
              "       [ 2.05669672, -0.23098992, -0.44384789],\n",
              "       [ 2.05669672, -0.23098992, -0.08923464],\n",
              "       [ 2.05669672, -1.12419977, -0.44384789]])"
            ]
          },
          "metadata": {},
          "execution_count": 189
        }
      ]
    },
    {
      "cell_type": "code",
      "source": [
        "km = KMeans(n_clusters=3)\n",
        "km\n",
        "\n",
        "y_predicted = km.fit_predict(df[['Luas genangan','Tinggi genangan','Lama genangan']])\n",
        "y_predicted\n",
        "\n",
        "df['TipePenanganan'] = y_predicted"
      ],
      "metadata": {
        "id": "3Ws4oGPuWW2o"
      },
      "execution_count": null,
      "outputs": []
    },
    {
      "cell_type": "code",
      "source": [
        "output = plt.scatter(scaled_x[:,0],scaled_x[:,1], s=100, c=df.TipePenanganan)\n",
        "centers= kmeans.cluster_centers_\n",
        "plt.scatter(centers[:,0], centers[:,1],c='red',s=100, alpha=1, marker=\"o\");\n",
        "plt.colorbar(output)\n",
        "plt.show()"
      ],
      "metadata": {
        "colab": {
          "base_uri": "https://localhost:8080/",
          "height": 269
        },
        "id": "YGHP-SZW1VqK",
        "outputId": "c6d3b61a-9cf6-4443-e044-771248a238ce"
      },
      "execution_count": null,
      "outputs": [
        {
          "output_type": "display_data",
          "data": {
            "text/plain": [
              "<Figure size 432x288 with 2 Axes>"
            ],
            "image/png": "[encoded data removed]"
          },
          "metadata": {
            "needs_background": "light"
          }
        }
      ]
    },
    {
      "cell_type": "code",
      "source": [
        "conditions = [\n",
        "    (df['TipePenanganan']==0),\n",
        "    (df['TipePenanganan']==1),\n",
        "    (df['TipePenanganan']==2)]\n",
        "choices = ['Tinggi','Sedang','Rendah']\n",
        "df['TipePenanganan'] = np.select(conditions, choices)"
      ],
      "metadata": {
        "id": "N9OHOte6W-fo"
      },
      "execution_count": null,
      "outputs": []
    },
    {
      "cell_type": "code",
      "source": [
        "print(df)"
      ],
      "metadata": {
        "id": "i4SlqjbbX7Rr",
        "colab": {
          "base_uri": "https://localhost:8080/"
        },
        "outputId": "11282813-9fb4-4b28-8b98-5d5b1e30c9ce"
      },
      "execution_count": null,
      "outputs": [
        {
          "output_type": "stream",
          "name": "stdout",
          "text": [
            "     _id                               Lokasi      Kecamatan      Kelurahan  \\\n",
            "0      1           Jl. Pakis Agosari (Yamaha)    Dukuh Pakis    Dukuh Pakis   \n",
            "1      2  Jl. Mayjend Sungkono - Darmo Park I    Dukuh Pakis    Dukuh Pakis   \n",
            "2      3    Jl. Mayjend Sungkono (Pom Bensin)    Dukuh Pakis    Dukuh Pakis   \n",
            "3      4                          Kp. Kebraon   Karangpilang     Warugunung   \n",
            "4      5              Jl. Lakar Santri RW.001    Lakarsantri     Bangkingan   \n",
            "..   ...                                  ...            ...            ...   \n",
            "239  240                            Jl. Kanwa      WONOKROMO          DARMO   \n",
            "240  241                 Per. Rungkut Harapan        Rungkut  Rungkut Kidul   \n",
            "241  242                        TANJUNGSARI I  SUKOMANUNGGAL    TANJUNGSARI   \n",
            "242  243                       Jl. Karangrejo      Wonokromo      Wonokromo   \n",
            "243  244                       Kp. Tambakdono         Benowo     Tambakdono   \n",
            "\n",
            "               Rayon  Luas genangan  Tinggi genangan  Lama genangan  \\\n",
            "0       Rayon Wiyung       1.970070             10.0             40   \n",
            "1       Rayon Wiyung       0.816236             21.5             55   \n",
            "2       Rayon Wiyung       0.509047             15.0             16   \n",
            "3       Rayon Wiyung       0.785111             10.0             40   \n",
            "4       Rayon Wiyung       0.749717             21.5             16   \n",
            "..               ...            ...              ...            ...   \n",
            "239    Rayon Genteng       0.334177              9.0              3   \n",
            "240  Rayon Jambangan       0.851371              9.0              3   \n",
            "241     Rayon Tandes       1.970070              9.0             15   \n",
            "242  Rayon Jambangan       1.970070              9.0             20   \n",
            "243     Rayon Tandes       1.970070              4.0             15   \n",
            "\n",
            "     Skor Luas Genangan  Skor Tinggi Genangan  Skor Lama Genangan  kluster  \\\n",
            "0                   100                    25                  25        2   \n",
            "1                    75                    50                  25        0   \n",
            "2                    75                    50                   0        0   \n",
            "3                    75                    25                  25        0   \n",
            "4                    75                    50                   0        0   \n",
            "..                  ...                   ...                 ...      ...   \n",
            "239                  50                    25                   0        1   \n",
            "240                  75                    25                   0        1   \n",
            "241                 100                    25                   0        2   \n",
            "242                 100                    25                   0        2   \n",
            "243                 100                     0                   0        2   \n",
            "\n",
            "    TipePenanganan  \n",
            "0           Rendah  \n",
            "1           Tinggi  \n",
            "2           Sedang  \n",
            "3           Rendah  \n",
            "4           Sedang  \n",
            "..             ...  \n",
            "239         Sedang  \n",
            "240         Sedang  \n",
            "241         Sedang  \n",
            "242         Sedang  \n",
            "243         Sedang  \n",
            "\n",
            "[244 rows x 13 columns]\n"
          ]
        }
      ]
    },
    {
      "cell_type": "code",
      "source": [
        "print(df.loc[df['TipePenanganan']=='Tinggi'])"
      ],
      "metadata": {
        "id": "Ne6px1bhiR_0",
        "colab": {
          "base_uri": "https://localhost:8080/"
        },
        "outputId": "a1d5b518-2207-4fe5-c01b-5bce83bec063"
      },
      "execution_count": null,
      "outputs": [
        {
          "output_type": "stream",
          "name": "stdout",
          "text": [
            "     _id                               Lokasi         Kecamatan  \\\n",
            "1      2  Jl. Mayjend Sungkono - Darmo Park I       Dukuh Pakis   \n",
            "14    15                    Jl. Jajar Tunggal            Wiyung   \n",
            "15    16            Jl. H. Abdul Wahab Siamin       Dukuh Pakis   \n",
            "69    70                      Kp. Sumber Rejo             Pakal   \n",
            "83    84             Perumahan Kutisari Indah  Tenggilis Mejoyo   \n",
            "98    99                   Kp. Merisi Selatan          Wonocolo   \n",
            "108  109                      Jl. Jetis Kulon         Wonokromo   \n",
            "124  125                            Jl. Randu          Kenjeran   \n",
            "128  129     Jl. Kalijudan (Perbatasan Ploso)         Mulyorejo   \n",
            "129  130                  Perumahan Mulyosari         Mulyorejo   \n",
            "138  139                        Jl. Hang Tuah          Semampir   \n",
            "147  148                       Kp. Ploso Baru        Tambaksari   \n",
            "149  150             Jl. Salak dan Sekitarnya        Tambaksari   \n",
            "150  151                     Kp. Karang Empat        Tambaksari   \n",
            "185  186   Perempatan Jalan Dupak,Jalan Demak           Bubutan   \n",
            "187  188  Jalan Raya Dupak,PGS s/d Pom Bensin           Bubutan   \n",
            "188  189                         Jl. Semarang           Bubutan   \n",
            "190  191                   Jl. Tanjung Sadari        Krembangan   \n",
            "198  199                            Jl. Demak           Bubutan   \n",
            "204  205                    Jl. Patemon Barat           Sawahan   \n",
            "\n",
            "          Kelurahan            Rayon  Luas genangan  Tinggi genangan  \\\n",
            "1       Dukuh Pakis     Rayon Wiyung       0.816236             21.5   \n",
            "14    Jajar Tunggal     Rayon Wiyung       0.546206             21.5   \n",
            "15      Dukuh Pakis     Rayon Wiyung       0.690760             21.5   \n",
            "69      Sumber Rejo     Rayon Tandes       1.970070              9.0   \n",
            "83         Kutisari  Rayon Jambangan       0.917751              4.0   \n",
            "98    Bendul Merisi  Rayon Jambangan       1.040533             10.0   \n",
            "108       Wonokromo  Rayon Jambangan       0.509372             10.0   \n",
            "124  Sidotopo Wetan     Rayon Gubeng       0.792657             21.5   \n",
            "128       Kalijudan     Rayon Gubeng       0.375170              6.0   \n",
            "129        Kalisari     Rayon Gubeng       0.858418             15.0   \n",
            "138           Ujung     Rayon Gubeng       1.970070             10.0   \n",
            "147    Pacar Keling     Rayon Gubeng       0.739720              4.0   \n",
            "149           Ploso     Rayon Gubeng       0.284249             20.0   \n",
            "150           Ploso     Rayon Gubeng       0.581005              8.0   \n",
            "185          Gundih    Rayon Genteng       1.063949              4.0   \n",
            "187          Gundih    Rayon Genteng       1.062551              9.0   \n",
            "188    Tembok Dukuh    Rayon Genteng       0.483196             21.5   \n",
            "190     Perak Barat    Rayon Genteng       0.285382             21.5   \n",
            "198          Gundih    Rayon Genteng       1.828212             21.5   \n",
            "204         Petemon    Rayon Genteng       0.539814              9.0   \n",
            "\n",
            "     Lama genangan  Skor Luas Genangan  Skor Tinggi Genangan  \\\n",
            "1               55                  75                    50   \n",
            "14              55                  75                    75   \n",
            "15              50                  75                    50   \n",
            "69              55                 100                    25   \n",
            "83              55                  75                     0   \n",
            "98              55                  75                    25   \n",
            "108             55                  75                    25   \n",
            "124             55                  75                    50   \n",
            "128             55                  50                    25   \n",
            "129             55                  75                    50   \n",
            "138             55                 100                    25   \n",
            "147             55                  75                     0   \n",
            "149             55                  50                    50   \n",
            "150             55                  75                    25   \n",
            "185             48                  75                     0   \n",
            "187             48                  75                    25   \n",
            "188             48                  50                    50   \n",
            "190             48                  50                    50   \n",
            "198             48                 100                    50   \n",
            "204             48                  75                    25   \n",
            "\n",
            "     Skor Lama Genangan  kluster TipePenanganan  \n",
            "1                    25        0         Tinggi  \n",
            "14                   50        0         Tinggi  \n",
            "15                   25        0         Tinggi  \n",
            "69                   50        2         Tinggi  \n",
            "83                   25        0         Tinggi  \n",
            "98                   25        0         Tinggi  \n",
            "108                  25        0         Tinggi  \n",
            "124                  50        0         Tinggi  \n",
            "128                  25        0         Tinggi  \n",
            "129                  25        0         Tinggi  \n",
            "138                  50        2         Tinggi  \n",
            "147                  50        0         Tinggi  \n",
            "149                  25        0         Tinggi  \n",
            "150                  50        0         Tinggi  \n",
            "185                  25        0         Tinggi  \n",
            "187                  25        0         Tinggi  \n",
            "188                  25        0         Tinggi  \n",
            "190                  25        0         Tinggi  \n",
            "198                  25        0         Tinggi  \n",
            "204                  25        0         Tinggi  \n"
          ]
        }
      ]
    },
    {
      "cell_type": "code",
      "source": [
        "sum(df['TipePenanganan']=='Tinggi')"
      ],
      "metadata": {
        "id": "2IpJb5l-i5jb",
        "colab": {
          "base_uri": "https://localhost:8080/"
        },
        "outputId": "e2ffe889-3870-403f-dbf2-57758d640369"
      },
      "execution_count": null,
      "outputs": [
        {
          "output_type": "execute_result",
          "data": {
            "text/plain": [
              "20"
            ]
          },
          "metadata": {},
          "execution_count": 195
        }
      ]
    },
    {
      "cell_type": "code",
      "source": [
        "sum(df['TipePenanganan']=='Sedang')"
      ],
      "metadata": {
        "id": "AGK8hWDKjMzT",
        "colab": {
          "base_uri": "https://localhost:8080/"
        },
        "outputId": "d894b47b-c244-4831-d506-03587cd8426c"
      },
      "execution_count": null,
      "outputs": [
        {
          "output_type": "execute_result",
          "data": {
            "text/plain": [
              "166"
            ]
          },
          "metadata": {},
          "execution_count": 196
        }
      ]
    },
    {
      "cell_type": "code",
      "source": [
        "sum(df['TipePenanganan']=='Rendah')"
      ],
      "metadata": {
        "id": "ad9hiifqjQSe",
        "colab": {
          "base_uri": "https://localhost:8080/"
        },
        "outputId": "ef19d1f9-dff8-41cf-beea-4fb8c2605ec4"
      },
      "execution_count": null,
      "outputs": [
        {
          "output_type": "execute_result",
          "data": {
            "text/plain": [
              "58"
            ]
          },
          "metadata": {},
          "execution_count": 197
        }
      ]
    },
    {
      "cell_type": "markdown",
      "source": [
        ""
      ],
      "metadata": {
        "id": "gbzwmofEd6iL"
      }
    },
    {
      "cell_type": "markdown",
      "source": [
        "## Clustering"
      ],
      "metadata": {
        "id": "mnyE4PJmxOrv"
      }
    }
  ]
}